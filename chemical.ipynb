{
 "cells": [
  {
   "cell_type": "code",
   "execution_count": 1,
   "metadata": {},
   "outputs": [],
   "source": [
    "import numpy as np\n",
    "import pandas as pd\n",
    "import matplotlib.pyplot as plt\n",
    "import seaborn as sns"
   ]
  },
  {
   "cell_type": "code",
   "execution_count": 2,
   "metadata": {},
   "outputs": [],
   "source": [
    "data=pd.read_excel(r'C:\\Users\\LENOVO\\Downloads\\CLC_train.xlsx')"
   ]
  },
  {
   "cell_type": "code",
   "execution_count": 3,
   "metadata": {},
   "outputs": [
    {
     "data": {
      "text/html": [
       "<div>\n",
       "<style scoped>\n",
       "    .dataframe tbody tr th:only-of-type {\n",
       "        vertical-align: middle;\n",
       "    }\n",
       "\n",
       "    .dataframe tbody tr th {\n",
       "        vertical-align: top;\n",
       "    }\n",
       "\n",
       "    .dataframe thead th {\n",
       "        text-align: right;\n",
       "    }\n",
       "</style>\n",
       "<table border=\"1\" class=\"dataframe\">\n",
       "  <thead>\n",
       "    <tr style=\"text-align: right;\">\n",
       "      <th></th>\n",
       "      <th>Date</th>\n",
       "      <th>Time</th>\n",
       "      <th>CO_GT</th>\n",
       "      <th>PT08_S1_CO</th>\n",
       "      <th>NMHC_GT</th>\n",
       "      <th>C6H6_GT</th>\n",
       "      <th>PT08_S2_NMHC</th>\n",
       "      <th>Nox_GT</th>\n",
       "      <th>PT08_S3_Nox</th>\n",
       "      <th>NO2_GT</th>\n",
       "      <th>PT08_S4_NO2</th>\n",
       "      <th>PT08_S5_O3</th>\n",
       "      <th>T</th>\n",
       "      <th>RH</th>\n",
       "      <th>AH</th>\n",
       "      <th>CO_level</th>\n",
       "    </tr>\n",
       "  </thead>\n",
       "  <tbody>\n",
       "    <tr>\n",
       "      <td>0</td>\n",
       "      <td>2004-11-23</td>\n",
       "      <td>19:00:00</td>\n",
       "      <td>11.9</td>\n",
       "      <td>2008</td>\n",
       "      <td>-200</td>\n",
       "      <td>50.6</td>\n",
       "      <td>1980</td>\n",
       "      <td>1389</td>\n",
       "      <td>325</td>\n",
       "      <td>220</td>\n",
       "      <td>2562</td>\n",
       "      <td>2342</td>\n",
       "      <td>12.4</td>\n",
       "      <td>74.7</td>\n",
       "      <td>1.0741</td>\n",
       "      <td>Very High</td>\n",
       "    </tr>\n",
       "    <tr>\n",
       "      <td>1</td>\n",
       "      <td>2004-11-23</td>\n",
       "      <td>20:00:00</td>\n",
       "      <td>11.5</td>\n",
       "      <td>1918</td>\n",
       "      <td>-200</td>\n",
       "      <td>49.4</td>\n",
       "      <td>1958</td>\n",
       "      <td>1358</td>\n",
       "      <td>335</td>\n",
       "      <td>190</td>\n",
       "      <td>2477</td>\n",
       "      <td>2237</td>\n",
       "      <td>11.5</td>\n",
       "      <td>76.2</td>\n",
       "      <td>1.0324</td>\n",
       "      <td>Very High</td>\n",
       "    </tr>\n",
       "    <tr>\n",
       "      <td>2</td>\n",
       "      <td>2004-11-17</td>\n",
       "      <td>18:00:00</td>\n",
       "      <td>10.2</td>\n",
       "      <td>1802</td>\n",
       "      <td>-200</td>\n",
       "      <td>47.7</td>\n",
       "      <td>1924</td>\n",
       "      <td>748</td>\n",
       "      <td>356</td>\n",
       "      <td>192</td>\n",
       "      <td>2235</td>\n",
       "      <td>2452</td>\n",
       "      <td>13.7</td>\n",
       "      <td>52.8</td>\n",
       "      <td>0.8244</td>\n",
       "      <td>Very High</td>\n",
       "    </tr>\n",
       "    <tr>\n",
       "      <td>3</td>\n",
       "      <td>2004-11-23</td>\n",
       "      <td>18:00:00</td>\n",
       "      <td>10.2</td>\n",
       "      <td>1982</td>\n",
       "      <td>-200</td>\n",
       "      <td>49.5</td>\n",
       "      <td>1959</td>\n",
       "      <td>1369</td>\n",
       "      <td>322</td>\n",
       "      <td>227</td>\n",
       "      <td>2536</td>\n",
       "      <td>2386</td>\n",
       "      <td>13.2</td>\n",
       "      <td>72.6</td>\n",
       "      <td>1.0936</td>\n",
       "      <td>Very High</td>\n",
       "    </tr>\n",
       "    <tr>\n",
       "      <td>4</td>\n",
       "      <td>2004-11-26</td>\n",
       "      <td>18:00:00</td>\n",
       "      <td>10.1</td>\n",
       "      <td>1956</td>\n",
       "      <td>-200</td>\n",
       "      <td>45.2</td>\n",
       "      <td>1877</td>\n",
       "      <td>1389</td>\n",
       "      <td>347</td>\n",
       "      <td>255</td>\n",
       "      <td>2338</td>\n",
       "      <td>2465</td>\n",
       "      <td>15.5</td>\n",
       "      <td>62.8</td>\n",
       "      <td>1.0979</td>\n",
       "      <td>Very High</td>\n",
       "    </tr>\n",
       "  </tbody>\n",
       "</table>\n",
       "</div>"
      ],
      "text/plain": [
       "        Date      Time  CO_GT  PT08_S1_CO  NMHC_GT  C6H6_GT  PT08_S2_NMHC  \\\n",
       "0 2004-11-23  19:00:00   11.9        2008     -200     50.6          1980   \n",
       "1 2004-11-23  20:00:00   11.5        1918     -200     49.4          1958   \n",
       "2 2004-11-17  18:00:00   10.2        1802     -200     47.7          1924   \n",
       "3 2004-11-23  18:00:00   10.2        1982     -200     49.5          1959   \n",
       "4 2004-11-26  18:00:00   10.1        1956     -200     45.2          1877   \n",
       "\n",
       "   Nox_GT  PT08_S3_Nox  NO2_GT  PT08_S4_NO2  PT08_S5_O3     T    RH      AH  \\\n",
       "0    1389          325     220         2562        2342  12.4  74.7  1.0741   \n",
       "1    1358          335     190         2477        2237  11.5  76.2  1.0324   \n",
       "2     748          356     192         2235        2452  13.7  52.8  0.8244   \n",
       "3    1369          322     227         2536        2386  13.2  72.6  1.0936   \n",
       "4    1389          347     255         2338        2465  15.5  62.8  1.0979   \n",
       "\n",
       "    CO_level  \n",
       "0  Very High  \n",
       "1  Very High  \n",
       "2  Very High  \n",
       "3  Very High  \n",
       "4  Very High  "
      ]
     },
     "execution_count": 3,
     "metadata": {},
     "output_type": "execute_result"
    }
   ],
   "source": [
    "data.head()"
   ]
  },
  {
   "cell_type": "code",
   "execution_count": 4,
   "metadata": {},
   "outputs": [
    {
     "data": {
      "text/plain": [
       "(7485, 16)"
      ]
     },
     "execution_count": 4,
     "metadata": {},
     "output_type": "execute_result"
    }
   ],
   "source": [
    "data.shape"
   ]
  },
  {
   "cell_type": "code",
   "execution_count": 5,
   "metadata": {},
   "outputs": [
    {
     "data": {
      "text/plain": [
       "Date            0\n",
       "Time            0\n",
       "CO_GT           0\n",
       "PT08_S1_CO      0\n",
       "NMHC_GT         0\n",
       "C6H6_GT         0\n",
       "PT08_S2_NMHC    0\n",
       "Nox_GT          0\n",
       "PT08_S3_Nox     0\n",
       "NO2_GT          0\n",
       "PT08_S4_NO2     0\n",
       "PT08_S5_O3      0\n",
       "T               0\n",
       "RH              0\n",
       "AH              0\n",
       "CO_level        0\n",
       "dtype: int64"
      ]
     },
     "execution_count": 5,
     "metadata": {},
     "output_type": "execute_result"
    }
   ],
   "source": [
    "data.isnull().sum()"
   ]
  },
  {
   "cell_type": "code",
   "execution_count": 6,
   "metadata": {},
   "outputs": [
    {
     "data": {
      "text/plain": [
       "-200.0    1346\n",
       " 1.6       275\n",
       " 0.7       260\n",
       " 1.7       258\n",
       " 0.8       251\n",
       "          ... \n",
       " 7.6         1\n",
       " 9.4         1\n",
       " 9.5         1\n",
       " 10.1        1\n",
       " 11.5        1\n",
       "Name: CO_GT, Length: 88, dtype: int64"
      ]
     },
     "execution_count": 6,
     "metadata": {},
     "output_type": "execute_result"
    }
   ],
   "source": [
    "data['CO_GT'].value_counts()"
   ]
  },
  {
   "cell_type": "code",
   "execution_count": 7,
   "metadata": {},
   "outputs": [
    {
     "data": {
      "text/plain": [
       "-200     323\n",
       " 1100     24\n",
       " 938      22\n",
       " 1124     21\n",
       " 1111     21\n",
       "        ... \n",
       " 1437      1\n",
       " 769       1\n",
       " 741       1\n",
       " 717       1\n",
       " 718       1\n",
       "Name: PT08_S1_CO, Length: 1019, dtype: int64"
      ]
     },
     "execution_count": 7,
     "metadata": {},
     "output_type": "execute_result"
    }
   ],
   "source": [
    "data['PT08_S1_CO'].value_counts()"
   ]
  },
  {
   "cell_type": "code",
   "execution_count": 8,
   "metadata": {},
   "outputs": [
    {
     "data": {
      "text/plain": [
       "-200    6698\n",
       " 66       11\n",
       " 40        8\n",
       " 29        7\n",
       " 57        6\n",
       "        ... \n",
       " 138       1\n",
       " 146       1\n",
       " 162       1\n",
       " 170       1\n",
       " 8         1\n",
       "Name: NMHC_GT, Length: 420, dtype: int64"
      ]
     },
     "execution_count": 8,
     "metadata": {},
     "output_type": "execute_result"
    }
   ],
   "source": [
    "data['NMHC_GT'].value_counts()"
   ]
  },
  {
   "cell_type": "code",
   "execution_count": 9,
   "metadata": {},
   "outputs": [
    {
     "data": {
      "text/plain": [
       "-200.0    323\n",
       " 3.0       57\n",
       " 2.2       55\n",
       " 2.5       54\n",
       " 2.8       54\n",
       "         ... \n",
       " 45.9       1\n",
       " 33.2       1\n",
       " 31.3       1\n",
       " 31.7       1\n",
       " 49.5       1\n",
       "Name: C6H6_GT, Length: 401, dtype: int64"
      ]
     },
     "execution_count": 9,
     "metadata": {},
     "output_type": "execute_result"
    }
   ],
   "source": [
    "data['C6H6_GT'].value_counts()"
   ]
  },
  {
   "cell_type": "code",
   "execution_count": 10,
   "metadata": {},
   "outputs": [
    {
     "data": {
      "text/plain": [
       "-200     323\n",
       " 985      20\n",
       " 1012     20\n",
       " 962      19\n",
       " 853      18\n",
       "        ... \n",
       " 1481      1\n",
       " 1497      1\n",
       " 1509      1\n",
       " 1517      1\n",
       " 1793      1\n",
       "Name: PT08_S2_NMHC, Length: 1198, dtype: int64"
      ]
     },
     "execution_count": 10,
     "metadata": {},
     "output_type": "execute_result"
    }
   ],
   "source": [
    "data['PT08_S2_NMHC'].value_counts()"
   ]
  },
  {
   "cell_type": "code",
   "execution_count": 11,
   "metadata": {},
   "outputs": [
    {
     "data": {
      "text/plain": [
       "-200     1318\n",
       " 120       31\n",
       " 122       30\n",
       " 41        29\n",
       " 104       28\n",
       "         ... \n",
       " 949        1\n",
       " 953        1\n",
       " 1005       1\n",
       " 1017       1\n",
       " 4          1\n",
       "Name: Nox_GT, Length: 917, dtype: int64"
      ]
     },
     "execution_count": 11,
     "metadata": {},
     "output_type": "execute_result"
    }
   ],
   "source": [
    "data['Nox_GT'].value_counts()"
   ]
  },
  {
   "cell_type": "code",
   "execution_count": 12,
   "metadata": {},
   "outputs": [
    {
     "data": {
      "text/plain": [
       "-200     323\n",
       " 685      21\n",
       " 846      21\n",
       " 648      21\n",
       " 876      20\n",
       "        ... \n",
       " 1421      1\n",
       " 1429      1\n",
       " 1433      1\n",
       " 1437      1\n",
       " 2081      1\n",
       "Name: PT08_S3_Nox, Length: 1129, dtype: int64"
      ]
     },
     "execution_count": 12,
     "metadata": {},
     "output_type": "execute_result"
    }
   ],
   "source": [
    "data['PT08_S3_Nox'].value_counts()"
   ]
  },
  {
   "cell_type": "code",
   "execution_count": 13,
   "metadata": {},
   "outputs": [
    {
     "data": {
      "text/plain": [
       "-200    1321\n",
       " 119      66\n",
       " 95       66\n",
       " 114      64\n",
       " 127      63\n",
       "        ... \n",
       " 285       1\n",
       " 291       1\n",
       " 256       1\n",
       " 309       1\n",
       " 295       1\n",
       "Name: NO2_GT, Length: 279, dtype: int64"
      ]
     },
     "execution_count": 13,
     "metadata": {},
     "output_type": "execute_result"
    }
   ],
   "source": [
    "data['NO2_GT'].value_counts()"
   ]
  },
  {
   "cell_type": "code",
   "execution_count": 14,
   "metadata": {},
   "outputs": [
    {
     "data": {
      "text/plain": [
       "-200     323\n",
       " 1488     21\n",
       " 1539     20\n",
       " 1580     19\n",
       " 1638     19\n",
       "        ... \n",
       " 2204      1\n",
       " 2216      1\n",
       " 2228      1\n",
       " 2232      1\n",
       " 2047      1\n",
       "Name: PT08_S4_NO2, Length: 1536, dtype: int64"
      ]
     },
     "execution_count": 14,
     "metadata": {},
     "output_type": "execute_result"
    }
   ],
   "source": [
    "data['PT08_S4_NO2'].value_counts()"
   ]
  },
  {
   "cell_type": "code",
   "execution_count": 15,
   "metadata": {},
   "outputs": [
    {
     "data": {
      "text/plain": [
       "-200     323\n",
       " 825      17\n",
       " 1192     15\n",
       " 826      15\n",
       " 816      15\n",
       "        ... \n",
       " 1853      1\n",
       " 1889      1\n",
       " 1893      1\n",
       " 1905      1\n",
       " 2069      1\n",
       "Name: PT08_S5_O3, Length: 1687, dtype: int64"
      ]
     },
     "execution_count": 15,
     "metadata": {},
     "output_type": "execute_result"
    }
   ],
   "source": [
    "data['PT08_S5_O3'].value_counts()"
   ]
  },
  {
   "cell_type": "code",
   "execution_count": 16,
   "metadata": {},
   "outputs": [
    {
     "data": {
      "text/plain": [
       "-200.0    323\n",
       " 20.8      49\n",
       " 20.2      45\n",
       " 21.3      44\n",
       " 14.6      43\n",
       "         ... \n",
       " 0.3        1\n",
       " 40.7       1\n",
       "-1.2        1\n",
       "-0.5        1\n",
       " 41.1       1\n",
       "Name: T, Length: 430, dtype: int64"
      ]
     },
     "execution_count": 16,
     "metadata": {},
     "output_type": "execute_result"
    }
   ],
   "source": [
    "data['T'].value_counts()"
   ]
  },
  {
   "cell_type": "code",
   "execution_count": 17,
   "metadata": {},
   "outputs": [
    {
     "data": {
      "text/plain": [
       "-200.0    323\n",
       " 53.1      26\n",
       " 57.9      26\n",
       " 57.6      23\n",
       " 47.6      23\n",
       "         ... \n",
       " 13.2       1\n",
       " 12.3       1\n",
       " 12.2       1\n",
       " 12.5       1\n",
       " 9.8        1\n",
       "Name: RH, Length: 746, dtype: int64"
      ]
     },
     "execution_count": 17,
     "metadata": {},
     "output_type": "execute_result"
    }
   ],
   "source": [
    "data['RH'].value_counts()"
   ]
  },
  {
   "cell_type": "code",
   "execution_count": 18,
   "metadata": {},
   "outputs": [
    {
     "data": {
      "text/plain": [
       "-200.0000    323\n",
       " 0.9722        6\n",
       " 0.8394        5\n",
       " 0.7487        5\n",
       " 0.9684        5\n",
       "            ... \n",
       " 1.3515        1\n",
       " 1.0119        1\n",
       " 0.4245        1\n",
       " 0.7696        1\n",
       " 0.4417        1\n",
       "Name: AH, Length: 5614, dtype: int64"
      ]
     },
     "execution_count": 18,
     "metadata": {},
     "output_type": "execute_result"
    }
   ],
   "source": [
    "data['AH'].value_counts()"
   ]
  },
  {
   "cell_type": "code",
   "execution_count": 19,
   "metadata": {},
   "outputs": [],
   "source": [
    "data=data.drop(columns=['NMHC_GT'])"
   ]
  },
  {
   "cell_type": "code",
   "execution_count": 20,
   "metadata": {},
   "outputs": [],
   "source": [
    "data=data.drop(data[data['AH']==-200].index)"
   ]
  },
  {
   "cell_type": "code",
   "execution_count": 21,
   "metadata": {},
   "outputs": [
    {
     "data": {
      "text/html": [
       "<div>\n",
       "<style scoped>\n",
       "    .dataframe tbody tr th:only-of-type {\n",
       "        vertical-align: middle;\n",
       "    }\n",
       "\n",
       "    .dataframe tbody tr th {\n",
       "        vertical-align: top;\n",
       "    }\n",
       "\n",
       "    .dataframe thead th {\n",
       "        text-align: right;\n",
       "    }\n",
       "</style>\n",
       "<table border=\"1\" class=\"dataframe\">\n",
       "  <thead>\n",
       "    <tr style=\"text-align: right;\">\n",
       "      <th></th>\n",
       "      <th>Date</th>\n",
       "      <th>Time</th>\n",
       "      <th>CO_GT</th>\n",
       "      <th>PT08_S1_CO</th>\n",
       "      <th>C6H6_GT</th>\n",
       "      <th>PT08_S2_NMHC</th>\n",
       "      <th>Nox_GT</th>\n",
       "      <th>PT08_S3_Nox</th>\n",
       "      <th>NO2_GT</th>\n",
       "      <th>PT08_S4_NO2</th>\n",
       "      <th>PT08_S5_O3</th>\n",
       "      <th>T</th>\n",
       "      <th>RH</th>\n",
       "      <th>AH</th>\n",
       "      <th>CO_level</th>\n",
       "    </tr>\n",
       "  </thead>\n",
       "  <tbody>\n",
       "    <tr>\n",
       "      <td>0</td>\n",
       "      <td>2004-11-23</td>\n",
       "      <td>19:00:00</td>\n",
       "      <td>11.9</td>\n",
       "      <td>2008</td>\n",
       "      <td>50.6</td>\n",
       "      <td>1980</td>\n",
       "      <td>1389</td>\n",
       "      <td>325</td>\n",
       "      <td>220</td>\n",
       "      <td>2562</td>\n",
       "      <td>2342</td>\n",
       "      <td>12.4</td>\n",
       "      <td>74.7</td>\n",
       "      <td>1.0741</td>\n",
       "      <td>Very High</td>\n",
       "    </tr>\n",
       "    <tr>\n",
       "      <td>1</td>\n",
       "      <td>2004-11-23</td>\n",
       "      <td>20:00:00</td>\n",
       "      <td>11.5</td>\n",
       "      <td>1918</td>\n",
       "      <td>49.4</td>\n",
       "      <td>1958</td>\n",
       "      <td>1358</td>\n",
       "      <td>335</td>\n",
       "      <td>190</td>\n",
       "      <td>2477</td>\n",
       "      <td>2237</td>\n",
       "      <td>11.5</td>\n",
       "      <td>76.2</td>\n",
       "      <td>1.0324</td>\n",
       "      <td>Very High</td>\n",
       "    </tr>\n",
       "    <tr>\n",
       "      <td>2</td>\n",
       "      <td>2004-11-17</td>\n",
       "      <td>18:00:00</td>\n",
       "      <td>10.2</td>\n",
       "      <td>1802</td>\n",
       "      <td>47.7</td>\n",
       "      <td>1924</td>\n",
       "      <td>748</td>\n",
       "      <td>356</td>\n",
       "      <td>192</td>\n",
       "      <td>2235</td>\n",
       "      <td>2452</td>\n",
       "      <td>13.7</td>\n",
       "      <td>52.8</td>\n",
       "      <td>0.8244</td>\n",
       "      <td>Very High</td>\n",
       "    </tr>\n",
       "    <tr>\n",
       "      <td>3</td>\n",
       "      <td>2004-11-23</td>\n",
       "      <td>18:00:00</td>\n",
       "      <td>10.2</td>\n",
       "      <td>1982</td>\n",
       "      <td>49.5</td>\n",
       "      <td>1959</td>\n",
       "      <td>1369</td>\n",
       "      <td>322</td>\n",
       "      <td>227</td>\n",
       "      <td>2536</td>\n",
       "      <td>2386</td>\n",
       "      <td>13.2</td>\n",
       "      <td>72.6</td>\n",
       "      <td>1.0936</td>\n",
       "      <td>Very High</td>\n",
       "    </tr>\n",
       "    <tr>\n",
       "      <td>4</td>\n",
       "      <td>2004-11-26</td>\n",
       "      <td>18:00:00</td>\n",
       "      <td>10.1</td>\n",
       "      <td>1956</td>\n",
       "      <td>45.2</td>\n",
       "      <td>1877</td>\n",
       "      <td>1389</td>\n",
       "      <td>347</td>\n",
       "      <td>255</td>\n",
       "      <td>2338</td>\n",
       "      <td>2465</td>\n",
       "      <td>15.5</td>\n",
       "      <td>62.8</td>\n",
       "      <td>1.0979</td>\n",
       "      <td>Very High</td>\n",
       "    </tr>\n",
       "  </tbody>\n",
       "</table>\n",
       "</div>"
      ],
      "text/plain": [
       "        Date      Time  CO_GT  PT08_S1_CO  C6H6_GT  PT08_S2_NMHC  Nox_GT  \\\n",
       "0 2004-11-23  19:00:00   11.9        2008     50.6          1980    1389   \n",
       "1 2004-11-23  20:00:00   11.5        1918     49.4          1958    1358   \n",
       "2 2004-11-17  18:00:00   10.2        1802     47.7          1924     748   \n",
       "3 2004-11-23  18:00:00   10.2        1982     49.5          1959    1369   \n",
       "4 2004-11-26  18:00:00   10.1        1956     45.2          1877    1389   \n",
       "\n",
       "   PT08_S3_Nox  NO2_GT  PT08_S4_NO2  PT08_S5_O3     T    RH      AH   CO_level  \n",
       "0          325     220         2562        2342  12.4  74.7  1.0741  Very High  \n",
       "1          335     190         2477        2237  11.5  76.2  1.0324  Very High  \n",
       "2          356     192         2235        2452  13.7  52.8  0.8244  Very High  \n",
       "3          322     227         2536        2386  13.2  72.6  1.0936  Very High  \n",
       "4          347     255         2338        2465  15.5  62.8  1.0979  Very High  "
      ]
     },
     "execution_count": 21,
     "metadata": {},
     "output_type": "execute_result"
    }
   ],
   "source": [
    "data.head()"
   ]
  },
  {
   "cell_type": "code",
   "execution_count": 22,
   "metadata": {},
   "outputs": [
    {
     "data": {
      "text/plain": [
       "-200.0    1313\n",
       " 1.6       264\n",
       " 0.7       252\n",
       " 0.8       243\n",
       " 0.9       241\n",
       "          ... \n",
       " 9.4         1\n",
       " 9.5         1\n",
       " 10.1        1\n",
       " 7.4         1\n",
       " 11.5        1\n",
       "Name: CO_GT, Length: 86, dtype: int64"
      ]
     },
     "execution_count": 22,
     "metadata": {},
     "output_type": "execute_result"
    }
   ],
   "source": [
    "data['CO_GT'].value_counts()"
   ]
  },
  {
   "cell_type": "code",
   "execution_count": 23,
   "metadata": {},
   "outputs": [
    {
     "data": {
      "text/plain": [
       "1100    24\n",
       "938     22\n",
       "1111    21\n",
       "1124    21\n",
       "1050    20\n",
       "        ..\n",
       "1437     1\n",
       "769      1\n",
       "741      1\n",
       "717      1\n",
       "718      1\n",
       "Name: PT08_S1_CO, Length: 1018, dtype: int64"
      ]
     },
     "execution_count": 23,
     "metadata": {},
     "output_type": "execute_result"
    }
   ],
   "source": [
    "data['PT08_S1_CO'].value_counts()"
   ]
  },
  {
   "cell_type": "code",
   "execution_count": 24,
   "metadata": {},
   "outputs": [
    {
     "data": {
      "text/plain": [
       "3.0     57\n",
       "2.2     55\n",
       "2.8     54\n",
       "2.5     54\n",
       "10.9    54\n",
       "        ..\n",
       "30.5     1\n",
       "35.5     1\n",
       "43.0     1\n",
       "63.7     1\n",
       "49.5     1\n",
       "Name: C6H6_GT, Length: 400, dtype: int64"
      ]
     },
     "execution_count": 24,
     "metadata": {},
     "output_type": "execute_result"
    }
   ],
   "source": [
    "data['C6H6_GT'].value_counts()"
   ]
  },
  {
   "cell_type": "code",
   "execution_count": 25,
   "metadata": {},
   "outputs": [
    {
     "data": {
      "text/plain": [
       "1012    20\n",
       "985     20\n",
       "962     19\n",
       "853     18\n",
       "914     18\n",
       "        ..\n",
       "1497     1\n",
       "1509     1\n",
       "1517     1\n",
       "1525     1\n",
       "444      1\n",
       "Name: PT08_S2_NMHC, Length: 1197, dtype: int64"
      ]
     },
     "execution_count": 25,
     "metadata": {},
     "output_type": "execute_result"
    }
   ],
   "source": [
    "data['PT08_S2_NMHC'].value_counts()"
   ]
  },
  {
   "cell_type": "code",
   "execution_count": 26,
   "metadata": {},
   "outputs": [
    {
     "data": {
      "text/plain": [
       "-200    1277\n",
       " 122      29\n",
       " 120      29\n",
       " 93       28\n",
       " 95       28\n",
       "        ... \n",
       " 865       1\n",
       " 877       1\n",
       " 881       1\n",
       " 897       1\n",
       " 4         1\n",
       "Name: Nox_GT, Length: 891, dtype: int64"
      ]
     },
     "execution_count": 26,
     "metadata": {},
     "output_type": "execute_result"
    }
   ],
   "source": [
    "data['Nox_GT'].value_counts()"
   ]
  },
  {
   "cell_type": "code",
   "execution_count": 27,
   "metadata": {},
   "outputs": [
    {
     "data": {
      "text/plain": [
       "846     21\n",
       "648     21\n",
       "685     21\n",
       "765     20\n",
       "733     20\n",
       "        ..\n",
       "1421     1\n",
       "1429     1\n",
       "1433     1\n",
       "1437     1\n",
       "2081     1\n",
       "Name: PT08_S3_Nox, Length: 1128, dtype: int64"
      ]
     },
     "execution_count": 27,
     "metadata": {},
     "output_type": "execute_result"
    }
   ],
   "source": [
    "data['PT08_S3_Nox'].value_counts()"
   ]
  },
  {
   "cell_type": "code",
   "execution_count": 28,
   "metadata": {},
   "outputs": [
    {
     "data": {
      "text/plain": [
       "-200    1280\n",
       " 95       64\n",
       " 119      63\n",
       " 114      63\n",
       " 110      60\n",
       "        ... \n",
       " 253       1\n",
       " 237       1\n",
       " 9         1\n",
       " 5         1\n",
       " 309       1\n",
       "Name: NO2_GT, Length: 270, dtype: int64"
      ]
     },
     "execution_count": 28,
     "metadata": {},
     "output_type": "execute_result"
    }
   ],
   "source": [
    "data['NO2_GT'].value_counts()"
   ]
  },
  {
   "cell_type": "code",
   "execution_count": 29,
   "metadata": {},
   "outputs": [
    {
     "data": {
      "text/plain": [
       "1488    21\n",
       "1539    20\n",
       "1580    19\n",
       "1638    19\n",
       "1490    18\n",
       "        ..\n",
       "2307     1\n",
       "2311     1\n",
       "2319     1\n",
       "2323     1\n",
       "2047     1\n",
       "Name: PT08_S4_NO2, Length: 1535, dtype: int64"
      ]
     },
     "execution_count": 29,
     "metadata": {},
     "output_type": "execute_result"
    }
   ],
   "source": [
    "data['PT08_S4_NO2'].value_counts()"
   ]
  },
  {
   "cell_type": "code",
   "execution_count": 30,
   "metadata": {},
   "outputs": [
    {
     "data": {
      "text/plain": [
       "825     17\n",
       "816     15\n",
       "826     15\n",
       "1192    15\n",
       "799     14\n",
       "        ..\n",
       "1853     1\n",
       "1889     1\n",
       "1893     1\n",
       "1905     1\n",
       "2069     1\n",
       "Name: PT08_S5_O3, Length: 1686, dtype: int64"
      ]
     },
     "execution_count": 30,
     "metadata": {},
     "output_type": "execute_result"
    }
   ],
   "source": [
    "data['PT08_S5_O3'].value_counts()"
   ]
  },
  {
   "cell_type": "code",
   "execution_count": 31,
   "metadata": {},
   "outputs": [
    {
     "data": {
      "text/plain": [
       "20.8    49\n",
       "20.2    45\n",
       "21.3    44\n",
       "14.6    43\n",
       "15.6    41\n",
       "        ..\n",
       "0.3      1\n",
       "42.6     1\n",
       "0.0      1\n",
       "1.5      1\n",
       "41.8     1\n",
       "Name: T, Length: 429, dtype: int64"
      ]
     },
     "execution_count": 31,
     "metadata": {},
     "output_type": "execute_result"
    }
   ],
   "source": [
    "data['T'].value_counts()"
   ]
  },
  {
   "cell_type": "code",
   "execution_count": 32,
   "metadata": {},
   "outputs": [
    {
     "data": {
      "text/plain": [
       "53.1    26\n",
       "57.9    26\n",
       "57.6    23\n",
       "49.8    23\n",
       "51.4    23\n",
       "        ..\n",
       "82.1     1\n",
       "12.2     1\n",
       "12.3     1\n",
       "85.4     1\n",
       "9.8      1\n",
       "Name: RH, Length: 745, dtype: int64"
      ]
     },
     "execution_count": 32,
     "metadata": {},
     "output_type": "execute_result"
    }
   ],
   "source": [
    "data['RH'].value_counts()"
   ]
  },
  {
   "cell_type": "code",
   "execution_count": 33,
   "metadata": {},
   "outputs": [
    {
     "data": {
      "text/plain": [
       "<matplotlib.axes._subplots.AxesSubplot at 0x1966a1f74c8>"
      ]
     },
     "execution_count": 33,
     "metadata": {},
     "output_type": "execute_result"
    },
    {
     "data": {
      "image/png": "[encoded data removed]",
      "text/plain": [
       "<Figure size 432x288 with 1 Axes>"
      ]
     },
     "metadata": {
      "needs_background": "light"
     },
     "output_type": "display_data"
    }
   ],
   "source": [
    "sns.countplot(x=\"CO_level\", data=data)"
   ]
  },
  {
   "cell_type": "code",
   "execution_count": 34,
   "metadata": {},
   "outputs": [
    {
     "data": {
      "image/png": "[encoded data removed]",
      "text/plain": [
       "<Figure size 432x288 with 1 Axes>"
      ]
     },
     "metadata": {
      "needs_background": "light"
     },
     "output_type": "display_data"
    }
   ],
   "source": [
    "#fig = plt.figure(figsize=(8,6))\n",
    "data.groupby('CO_level')[\"CO_GT\"].count().plot.bar(ylim=0)\n",
    "plt.show()"
   ]
  },
  {
   "cell_type": "code",
   "execution_count": 35,
   "metadata": {},
   "outputs": [
    {
     "data": {
      "image/png": "[encoded data removed]",
      "text/plain": [
       "<Figure size 432x288 with 1 Axes>"
      ]
     },
     "metadata": {
      "needs_background": "light"
     },
     "output_type": "display_data"
    }
   ],
   "source": [
    "data.groupby('CO_level')[\"Nox_GT\"].count().plot.bar(ylim=0)\n",
    "plt.show()"
   ]
  },
  {
   "cell_type": "code",
   "execution_count": 36,
   "metadata": {},
   "outputs": [
    {
     "data": {
      "text/plain": [
       "<matplotlib.axes._subplots.AxesSubplot at 0x1966a260888>"
      ]
     },
     "execution_count": 36,
     "metadata": {},
     "output_type": "execute_result"
    },
    {
     "data": {
      "image/png": "[encoded data removed]",
      "text/plain": [
       "<Figure size 432x288 with 1 Axes>"
      ]
     },
     "metadata": {
      "needs_background": "light"
     },
     "output_type": "display_data"
    }
   ],
   "source": [
    "sns.violinplot(x=data[\"CO_GT\"])"
   ]
  },
  {
   "cell_type": "code",
   "execution_count": 37,
   "metadata": {},
   "outputs": [
    {
     "data": {
      "text/plain": [
       "2.398957     1313\n",
       "1.600000      264\n",
       "0.700000      252\n",
       "0.800000      243\n",
       "0.900000      241\n",
       "             ... \n",
       "9.400000        1\n",
       "9.500000        1\n",
       "10.100000       1\n",
       "7.400000        1\n",
       "11.500000       1\n",
       "Name: CO_GT, Length: 86, dtype: int64"
      ]
     },
     "execution_count": 37,
     "metadata": {},
     "output_type": "execute_result"
    }
   ],
   "source": [
    "x=data['CO_GT']\n",
    "x=x.drop(x[x==-200].index)\n",
    "a=x.mean()\n",
    "data['CO_GT']=data['CO_GT'].replace(to_replace=-200, value =a) \n",
    "data['CO_GT'].value_counts()"
   ]
  },
  {
   "cell_type": "code",
   "execution_count": 38,
   "metadata": {},
   "outputs": [
    {
     "data": {
      "image/png": "[encoded data removed]",
      "text/plain": [
       "<Figure size 432x288 with 1 Axes>"
      ]
     },
     "metadata": {
      "needs_background": "light"
     },
     "output_type": "display_data"
    }
   ],
   "source": [
    "#fig = plt.figure(figsize=(8,6))\n",
    "data.groupby('CO_level')[\"CO_GT\"].count().plot.bar(ylim=0)\n",
    "plt.show()"
   ]
  },
  {
   "cell_type": "code",
   "execution_count": 39,
   "metadata": {},
   "outputs": [
    {
     "data": {
      "text/plain": [
       "267.750892     1277\n",
       "122.000000       29\n",
       "120.000000       29\n",
       "93.000000        28\n",
       "95.000000        28\n",
       "               ... \n",
       "1074.000000       1\n",
       "1098.000000       1\n",
       "719.000000        1\n",
       "1188.000000       1\n",
       "591.000000        1\n",
       "Name: Nox_GT, Length: 891, dtype: int64"
      ]
     },
     "execution_count": 39,
     "metadata": {},
     "output_type": "execute_result"
    }
   ],
   "source": [
    "x=data['Nox_GT']\n",
    "x=x.drop(x[x==-200].index)\n",
    "a=x.mean()\n",
    "data['Nox_GT']=data['Nox_GT'].replace(to_replace=-200, value =a) \n",
    "data['Nox_GT'].value_counts()"
   ]
  },
  {
   "cell_type": "code",
   "execution_count": 40,
   "metadata": {},
   "outputs": [
    {
     "data": {
      "text/plain": [
       "117.739034    1280\n",
       "95.000000       64\n",
       "119.000000      63\n",
       "114.000000      63\n",
       "116.000000      60\n",
       "              ... \n",
       "252.000000       1\n",
       "333.000000       1\n",
       "322.000000       1\n",
       "237.000000       1\n",
       "295.000000       1\n",
       "Name: NO2_GT, Length: 270, dtype: int64"
      ]
     },
     "execution_count": 40,
     "metadata": {},
     "output_type": "execute_result"
    }
   ],
   "source": [
    "x=data['NO2_GT']\n",
    "x=x.drop(x[x==-200].index)\n",
    "a=x.mean()\n",
    "data['NO2_GT']=data['NO2_GT'].replace(to_replace=-200, value =a) \n",
    "data['NO2_GT'].value_counts()"
   ]
  },
  {
   "cell_type": "code",
   "execution_count": 41,
   "metadata": {},
   "outputs": [
    {
     "data": {
      "text/html": [
       "<div>\n",
       "<style scoped>\n",
       "    .dataframe tbody tr th:only-of-type {\n",
       "        vertical-align: middle;\n",
       "    }\n",
       "\n",
       "    .dataframe tbody tr th {\n",
       "        vertical-align: top;\n",
       "    }\n",
       "\n",
       "    .dataframe thead th {\n",
       "        text-align: right;\n",
       "    }\n",
       "</style>\n",
       "<table border=\"1\" class=\"dataframe\">\n",
       "  <thead>\n",
       "    <tr style=\"text-align: right;\">\n",
       "      <th></th>\n",
       "      <th>Date</th>\n",
       "      <th>Time</th>\n",
       "      <th>CO_GT</th>\n",
       "      <th>PT08_S1_CO</th>\n",
       "      <th>C6H6_GT</th>\n",
       "      <th>PT08_S2_NMHC</th>\n",
       "      <th>Nox_GT</th>\n",
       "      <th>PT08_S3_Nox</th>\n",
       "      <th>NO2_GT</th>\n",
       "      <th>PT08_S4_NO2</th>\n",
       "      <th>PT08_S5_O3</th>\n",
       "      <th>T</th>\n",
       "      <th>RH</th>\n",
       "      <th>AH</th>\n",
       "      <th>CO_level</th>\n",
       "    </tr>\n",
       "  </thead>\n",
       "  <tbody>\n",
       "    <tr>\n",
       "      <td>0</td>\n",
       "      <td>2004-11-23</td>\n",
       "      <td>19:00:00</td>\n",
       "      <td>11.9</td>\n",
       "      <td>2008</td>\n",
       "      <td>50.6</td>\n",
       "      <td>1980</td>\n",
       "      <td>1389.0</td>\n",
       "      <td>325</td>\n",
       "      <td>220.0</td>\n",
       "      <td>2562</td>\n",
       "      <td>2342</td>\n",
       "      <td>12.4</td>\n",
       "      <td>74.7</td>\n",
       "      <td>1.0741</td>\n",
       "      <td>Very High</td>\n",
       "    </tr>\n",
       "    <tr>\n",
       "      <td>1</td>\n",
       "      <td>2004-11-23</td>\n",
       "      <td>20:00:00</td>\n",
       "      <td>11.5</td>\n",
       "      <td>1918</td>\n",
       "      <td>49.4</td>\n",
       "      <td>1958</td>\n",
       "      <td>1358.0</td>\n",
       "      <td>335</td>\n",
       "      <td>190.0</td>\n",
       "      <td>2477</td>\n",
       "      <td>2237</td>\n",
       "      <td>11.5</td>\n",
       "      <td>76.2</td>\n",
       "      <td>1.0324</td>\n",
       "      <td>Very High</td>\n",
       "    </tr>\n",
       "    <tr>\n",
       "      <td>2</td>\n",
       "      <td>2004-11-17</td>\n",
       "      <td>18:00:00</td>\n",
       "      <td>10.2</td>\n",
       "      <td>1802</td>\n",
       "      <td>47.7</td>\n",
       "      <td>1924</td>\n",
       "      <td>748.0</td>\n",
       "      <td>356</td>\n",
       "      <td>192.0</td>\n",
       "      <td>2235</td>\n",
       "      <td>2452</td>\n",
       "      <td>13.7</td>\n",
       "      <td>52.8</td>\n",
       "      <td>0.8244</td>\n",
       "      <td>Very High</td>\n",
       "    </tr>\n",
       "    <tr>\n",
       "      <td>3</td>\n",
       "      <td>2004-11-23</td>\n",
       "      <td>18:00:00</td>\n",
       "      <td>10.2</td>\n",
       "      <td>1982</td>\n",
       "      <td>49.5</td>\n",
       "      <td>1959</td>\n",
       "      <td>1369.0</td>\n",
       "      <td>322</td>\n",
       "      <td>227.0</td>\n",
       "      <td>2536</td>\n",
       "      <td>2386</td>\n",
       "      <td>13.2</td>\n",
       "      <td>72.6</td>\n",
       "      <td>1.0936</td>\n",
       "      <td>Very High</td>\n",
       "    </tr>\n",
       "    <tr>\n",
       "      <td>4</td>\n",
       "      <td>2004-11-26</td>\n",
       "      <td>18:00:00</td>\n",
       "      <td>10.1</td>\n",
       "      <td>1956</td>\n",
       "      <td>45.2</td>\n",
       "      <td>1877</td>\n",
       "      <td>1389.0</td>\n",
       "      <td>347</td>\n",
       "      <td>255.0</td>\n",
       "      <td>2338</td>\n",
       "      <td>2465</td>\n",
       "      <td>15.5</td>\n",
       "      <td>62.8</td>\n",
       "      <td>1.0979</td>\n",
       "      <td>Very High</td>\n",
       "    </tr>\n",
       "    <tr>\n",
       "      <td>5</td>\n",
       "      <td>2004-12-13</td>\n",
       "      <td>18:00:00</td>\n",
       "      <td>9.9</td>\n",
       "      <td>1881</td>\n",
       "      <td>50.8</td>\n",
       "      <td>1983</td>\n",
       "      <td>1479.0</td>\n",
       "      <td>334</td>\n",
       "      <td>269.0</td>\n",
       "      <td>2271</td>\n",
       "      <td>2523</td>\n",
       "      <td>12.6</td>\n",
       "      <td>55.9</td>\n",
       "      <td>0.8142</td>\n",
       "      <td>Very High</td>\n",
       "    </tr>\n",
       "    <tr>\n",
       "      <td>6</td>\n",
       "      <td>2004-10-26</td>\n",
       "      <td>18:00:00</td>\n",
       "      <td>9.5</td>\n",
       "      <td>1908</td>\n",
       "      <td>52.1</td>\n",
       "      <td>2007</td>\n",
       "      <td>952.0</td>\n",
       "      <td>325</td>\n",
       "      <td>180.0</td>\n",
       "      <td>2775</td>\n",
       "      <td>2372</td>\n",
       "      <td>22.5</td>\n",
       "      <td>61.5</td>\n",
       "      <td>1.6579</td>\n",
       "      <td>Very High</td>\n",
       "    </tr>\n",
       "    <tr>\n",
       "      <td>7</td>\n",
       "      <td>2004-12-02</td>\n",
       "      <td>19:00:00</td>\n",
       "      <td>9.4</td>\n",
       "      <td>1816</td>\n",
       "      <td>43.9</td>\n",
       "      <td>1851</td>\n",
       "      <td>1184.0</td>\n",
       "      <td>341</td>\n",
       "      <td>171.0</td>\n",
       "      <td>2405</td>\n",
       "      <td>2069</td>\n",
       "      <td>15.4</td>\n",
       "      <td>73.0</td>\n",
       "      <td>1.2688</td>\n",
       "      <td>Very High</td>\n",
       "    </tr>\n",
       "    <tr>\n",
       "      <td>9</td>\n",
       "      <td>2004-11-04</td>\n",
       "      <td>18:00:00</td>\n",
       "      <td>8.7</td>\n",
       "      <td>1882</td>\n",
       "      <td>47.5</td>\n",
       "      <td>1920</td>\n",
       "      <td>1014.0</td>\n",
       "      <td>328</td>\n",
       "      <td>171.0</td>\n",
       "      <td>2609</td>\n",
       "      <td>2204</td>\n",
       "      <td>23.1</td>\n",
       "      <td>61.1</td>\n",
       "      <td>1.7082</td>\n",
       "      <td>High</td>\n",
       "    </tr>\n",
       "    <tr>\n",
       "      <td>10</td>\n",
       "      <td>2004-12-23</td>\n",
       "      <td>19:00:00</td>\n",
       "      <td>8.7</td>\n",
       "      <td>1704</td>\n",
       "      <td>36.1</td>\n",
       "      <td>1689</td>\n",
       "      <td>1070.0</td>\n",
       "      <td>402</td>\n",
       "      <td>242.0</td>\n",
       "      <td>1820</td>\n",
       "      <td>2480</td>\n",
       "      <td>7.1</td>\n",
       "      <td>50.3</td>\n",
       "      <td>0.5100</td>\n",
       "      <td>High</td>\n",
       "    </tr>\n",
       "  </tbody>\n",
       "</table>\n",
       "</div>"
      ],
      "text/plain": [
       "         Date      Time  CO_GT  PT08_S1_CO  C6H6_GT  PT08_S2_NMHC  Nox_GT  \\\n",
       "0  2004-11-23  19:00:00   11.9        2008     50.6          1980  1389.0   \n",
       "1  2004-11-23  20:00:00   11.5        1918     49.4          1958  1358.0   \n",
       "2  2004-11-17  18:00:00   10.2        1802     47.7          1924   748.0   \n",
       "3  2004-11-23  18:00:00   10.2        1982     49.5          1959  1369.0   \n",
       "4  2004-11-26  18:00:00   10.1        1956     45.2          1877  1389.0   \n",
       "5  2004-12-13  18:00:00    9.9        1881     50.8          1983  1479.0   \n",
       "6  2004-10-26  18:00:00    9.5        1908     52.1          2007   952.0   \n",
       "7  2004-12-02  19:00:00    9.4        1816     43.9          1851  1184.0   \n",
       "9  2004-11-04  18:00:00    8.7        1882     47.5          1920  1014.0   \n",
       "10 2004-12-23  19:00:00    8.7        1704     36.1          1689  1070.0   \n",
       "\n",
       "    PT08_S3_Nox  NO2_GT  PT08_S4_NO2  PT08_S5_O3     T    RH      AH  \\\n",
       "0           325   220.0         2562        2342  12.4  74.7  1.0741   \n",
       "1           335   190.0         2477        2237  11.5  76.2  1.0324   \n",
       "2           356   192.0         2235        2452  13.7  52.8  0.8244   \n",
       "3           322   227.0         2536        2386  13.2  72.6  1.0936   \n",
       "4           347   255.0         2338        2465  15.5  62.8  1.0979   \n",
       "5           334   269.0         2271        2523  12.6  55.9  0.8142   \n",
       "6           325   180.0         2775        2372  22.5  61.5  1.6579   \n",
       "7           341   171.0         2405        2069  15.4  73.0  1.2688   \n",
       "9           328   171.0         2609        2204  23.1  61.1  1.7082   \n",
       "10          402   242.0         1820        2480   7.1  50.3  0.5100   \n",
       "\n",
       "     CO_level  \n",
       "0   Very High  \n",
       "1   Very High  \n",
       "2   Very High  \n",
       "3   Very High  \n",
       "4   Very High  \n",
       "5   Very High  \n",
       "6   Very High  \n",
       "7   Very High  \n",
       "9        High  \n",
       "10       High  "
      ]
     },
     "execution_count": 41,
     "metadata": {},
     "output_type": "execute_result"
    }
   ],
   "source": [
    "data.head(10)"
   ]
  },
  {
   "cell_type": "code",
   "execution_count": 42,
   "metadata": {},
   "outputs": [
    {
     "data": {
      "text/plain": [
       "Date            datetime64[ns]\n",
       "Time                    object\n",
       "CO_GT                  float64\n",
       "PT08_S1_CO               int64\n",
       "C6H6_GT                float64\n",
       "PT08_S2_NMHC             int64\n",
       "Nox_GT                 float64\n",
       "PT08_S3_Nox              int64\n",
       "NO2_GT                 float64\n",
       "PT08_S4_NO2              int64\n",
       "PT08_S5_O3               int64\n",
       "T                      float64\n",
       "RH                     float64\n",
       "AH                     float64\n",
       "CO_level                object\n",
       "dtype: object"
      ]
     },
     "execution_count": 42,
     "metadata": {},
     "output_type": "execute_result"
    }
   ],
   "source": [
    "data.dtypes"
   ]
  },
  {
   "cell_type": "code",
   "execution_count": 43,
   "metadata": {},
   "outputs": [],
   "source": [
    "data['Date_year']=data['Date'].dt.year\n",
    "data['Date_month'] = data['Date'].dt.month\n",
    "data['Date_week'] = data['Date'].dt.week\n",
    "data['Date_day'] = data['Date'].dt.day"
   ]
  },
  {
   "cell_type": "code",
   "execution_count": 44,
   "metadata": {},
   "outputs": [],
   "source": [
    "data['Date'] = data['Date'].dt.date"
   ]
  },
  {
   "cell_type": "code",
   "execution_count": 45,
   "metadata": {},
   "outputs": [
    {
     "data": {
      "text/plain": [
       "Date             object\n",
       "Time             object\n",
       "CO_GT           float64\n",
       "PT08_S1_CO        int64\n",
       "C6H6_GT         float64\n",
       "PT08_S2_NMHC      int64\n",
       "Nox_GT          float64\n",
       "PT08_S3_Nox       int64\n",
       "NO2_GT          float64\n",
       "PT08_S4_NO2       int64\n",
       "PT08_S5_O3        int64\n",
       "T               float64\n",
       "RH              float64\n",
       "AH              float64\n",
       "CO_level         object\n",
       "Date_year         int64\n",
       "Date_month        int64\n",
       "Date_week         int64\n",
       "Date_day          int64\n",
       "dtype: object"
      ]
     },
     "execution_count": 45,
     "metadata": {},
     "output_type": "execute_result"
    }
   ],
   "source": [
    "data.dtypes"
   ]
  },
  {
   "cell_type": "code",
   "execution_count": 46,
   "metadata": {},
   "outputs": [
    {
     "data": {
      "text/html": [
       "<div>\n",
       "<style scoped>\n",
       "    .dataframe tbody tr th:only-of-type {\n",
       "        vertical-align: middle;\n",
       "    }\n",
       "\n",
       "    .dataframe tbody tr th {\n",
       "        vertical-align: top;\n",
       "    }\n",
       "\n",
       "    .dataframe thead th {\n",
       "        text-align: right;\n",
       "    }\n",
       "</style>\n",
       "<table border=\"1\" class=\"dataframe\">\n",
       "  <thead>\n",
       "    <tr style=\"text-align: right;\">\n",
       "      <th></th>\n",
       "      <th>Date</th>\n",
       "      <th>Time</th>\n",
       "      <th>CO_GT</th>\n",
       "      <th>PT08_S1_CO</th>\n",
       "      <th>C6H6_GT</th>\n",
       "      <th>PT08_S2_NMHC</th>\n",
       "      <th>Nox_GT</th>\n",
       "      <th>PT08_S3_Nox</th>\n",
       "      <th>NO2_GT</th>\n",
       "      <th>PT08_S4_NO2</th>\n",
       "      <th>PT08_S5_O3</th>\n",
       "      <th>T</th>\n",
       "      <th>RH</th>\n",
       "      <th>AH</th>\n",
       "      <th>CO_level</th>\n",
       "      <th>Date_year</th>\n",
       "      <th>Date_month</th>\n",
       "      <th>Date_week</th>\n",
       "      <th>Date_day</th>\n",
       "    </tr>\n",
       "  </thead>\n",
       "  <tbody>\n",
       "    <tr>\n",
       "      <td>0</td>\n",
       "      <td>2004-11-23</td>\n",
       "      <td>19:00:00</td>\n",
       "      <td>11.9</td>\n",
       "      <td>2008</td>\n",
       "      <td>50.6</td>\n",
       "      <td>1980</td>\n",
       "      <td>1389.0</td>\n",
       "      <td>325</td>\n",
       "      <td>220.0</td>\n",
       "      <td>2562</td>\n",
       "      <td>2342</td>\n",
       "      <td>12.4</td>\n",
       "      <td>74.7</td>\n",
       "      <td>1.0741</td>\n",
       "      <td>Very High</td>\n",
       "      <td>2004</td>\n",
       "      <td>11</td>\n",
       "      <td>48</td>\n",
       "      <td>23</td>\n",
       "    </tr>\n",
       "    <tr>\n",
       "      <td>1</td>\n",
       "      <td>2004-11-23</td>\n",
       "      <td>20:00:00</td>\n",
       "      <td>11.5</td>\n",
       "      <td>1918</td>\n",
       "      <td>49.4</td>\n",
       "      <td>1958</td>\n",
       "      <td>1358.0</td>\n",
       "      <td>335</td>\n",
       "      <td>190.0</td>\n",
       "      <td>2477</td>\n",
       "      <td>2237</td>\n",
       "      <td>11.5</td>\n",
       "      <td>76.2</td>\n",
       "      <td>1.0324</td>\n",
       "      <td>Very High</td>\n",
       "      <td>2004</td>\n",
       "      <td>11</td>\n",
       "      <td>48</td>\n",
       "      <td>23</td>\n",
       "    </tr>\n",
       "    <tr>\n",
       "      <td>2</td>\n",
       "      <td>2004-11-17</td>\n",
       "      <td>18:00:00</td>\n",
       "      <td>10.2</td>\n",
       "      <td>1802</td>\n",
       "      <td>47.7</td>\n",
       "      <td>1924</td>\n",
       "      <td>748.0</td>\n",
       "      <td>356</td>\n",
       "      <td>192.0</td>\n",
       "      <td>2235</td>\n",
       "      <td>2452</td>\n",
       "      <td>13.7</td>\n",
       "      <td>52.8</td>\n",
       "      <td>0.8244</td>\n",
       "      <td>Very High</td>\n",
       "      <td>2004</td>\n",
       "      <td>11</td>\n",
       "      <td>47</td>\n",
       "      <td>17</td>\n",
       "    </tr>\n",
       "    <tr>\n",
       "      <td>3</td>\n",
       "      <td>2004-11-23</td>\n",
       "      <td>18:00:00</td>\n",
       "      <td>10.2</td>\n",
       "      <td>1982</td>\n",
       "      <td>49.5</td>\n",
       "      <td>1959</td>\n",
       "      <td>1369.0</td>\n",
       "      <td>322</td>\n",
       "      <td>227.0</td>\n",
       "      <td>2536</td>\n",
       "      <td>2386</td>\n",
       "      <td>13.2</td>\n",
       "      <td>72.6</td>\n",
       "      <td>1.0936</td>\n",
       "      <td>Very High</td>\n",
       "      <td>2004</td>\n",
       "      <td>11</td>\n",
       "      <td>48</td>\n",
       "      <td>23</td>\n",
       "    </tr>\n",
       "    <tr>\n",
       "      <td>4</td>\n",
       "      <td>2004-11-26</td>\n",
       "      <td>18:00:00</td>\n",
       "      <td>10.1</td>\n",
       "      <td>1956</td>\n",
       "      <td>45.2</td>\n",
       "      <td>1877</td>\n",
       "      <td>1389.0</td>\n",
       "      <td>347</td>\n",
       "      <td>255.0</td>\n",
       "      <td>2338</td>\n",
       "      <td>2465</td>\n",
       "      <td>15.5</td>\n",
       "      <td>62.8</td>\n",
       "      <td>1.0979</td>\n",
       "      <td>Very High</td>\n",
       "      <td>2004</td>\n",
       "      <td>11</td>\n",
       "      <td>48</td>\n",
       "      <td>26</td>\n",
       "    </tr>\n",
       "  </tbody>\n",
       "</table>\n",
       "</div>"
      ],
      "text/plain": [
       "         Date      Time  CO_GT  PT08_S1_CO  C6H6_GT  PT08_S2_NMHC  Nox_GT  \\\n",
       "0  2004-11-23  19:00:00   11.9        2008     50.6          1980  1389.0   \n",
       "1  2004-11-23  20:00:00   11.5        1918     49.4          1958  1358.0   \n",
       "2  2004-11-17  18:00:00   10.2        1802     47.7          1924   748.0   \n",
       "3  2004-11-23  18:00:00   10.2        1982     49.5          1959  1369.0   \n",
       "4  2004-11-26  18:00:00   10.1        1956     45.2          1877  1389.0   \n",
       "\n",
       "   PT08_S3_Nox  NO2_GT  PT08_S4_NO2  PT08_S5_O3     T    RH      AH  \\\n",
       "0          325   220.0         2562        2342  12.4  74.7  1.0741   \n",
       "1          335   190.0         2477        2237  11.5  76.2  1.0324   \n",
       "2          356   192.0         2235        2452  13.7  52.8  0.8244   \n",
       "3          322   227.0         2536        2386  13.2  72.6  1.0936   \n",
       "4          347   255.0         2338        2465  15.5  62.8  1.0979   \n",
       "\n",
       "    CO_level  Date_year  Date_month  Date_week  Date_day  \n",
       "0  Very High       2004          11         48        23  \n",
       "1  Very High       2004          11         48        23  \n",
       "2  Very High       2004          11         47        17  \n",
       "3  Very High       2004          11         48        23  \n",
       "4  Very High       2004          11         48        26  "
      ]
     },
     "execution_count": 46,
     "metadata": {},
     "output_type": "execute_result"
    }
   ],
   "source": [
    "data.head()"
   ]
  },
  {
   "cell_type": "code",
   "execution_count": 47,
   "metadata": {},
   "outputs": [],
   "source": [
    "data=data.drop(columns=['Date'])"
   ]
  },
  {
   "cell_type": "code",
   "execution_count": 48,
   "metadata": {},
   "outputs": [
    {
     "data": {
      "text/plain": [
       "(7162, 18)"
      ]
     },
     "execution_count": 48,
     "metadata": {},
     "output_type": "execute_result"
    }
   ],
   "source": [
    "data.shape"
   ]
  },
  {
   "cell_type": "code",
   "execution_count": 49,
   "metadata": {},
   "outputs": [
    {
     "data": {
      "text/plain": [
       "array([datetime.time(19, 0), datetime.time(20, 0), datetime.time(18, 0),\n",
       "       datetime.time(17, 0), datetime.time(21, 0), datetime.time(9, 0),\n",
       "       datetime.time(14, 0), datetime.time(8, 0), datetime.time(13, 0),\n",
       "       datetime.time(16, 0), datetime.time(10, 0), datetime.time(11, 0),\n",
       "       datetime.time(15, 0), datetime.time(12, 0), datetime.time(0, 0),\n",
       "       datetime.time(7, 0), datetime.time(1, 0), datetime.time(2, 0),\n",
       "       datetime.time(23, 0), datetime.time(3, 0), datetime.time(22, 0),\n",
       "       datetime.time(6, 0), datetime.time(5, 0), datetime.time(4, 0)],\n",
       "      dtype=object)"
      ]
     },
     "execution_count": 49,
     "metadata": {},
     "output_type": "execute_result"
    }
   ],
   "source": [
    "data['Time'].unique()"
   ]
  },
  {
   "cell_type": "code",
   "execution_count": 50,
   "metadata": {},
   "outputs": [],
   "source": [
    "data['Split']=data['Time'].astype(str).str.split(':')"
   ]
  },
  {
   "cell_type": "code",
   "execution_count": 51,
   "metadata": {},
   "outputs": [
    {
     "data": {
      "text/html": [
       "<div>\n",
       "<style scoped>\n",
       "    .dataframe tbody tr th:only-of-type {\n",
       "        vertical-align: middle;\n",
       "    }\n",
       "\n",
       "    .dataframe tbody tr th {\n",
       "        vertical-align: top;\n",
       "    }\n",
       "\n",
       "    .dataframe thead th {\n",
       "        text-align: right;\n",
       "    }\n",
       "</style>\n",
       "<table border=\"1\" class=\"dataframe\">\n",
       "  <thead>\n",
       "    <tr style=\"text-align: right;\">\n",
       "      <th></th>\n",
       "      <th>Time</th>\n",
       "      <th>CO_GT</th>\n",
       "      <th>PT08_S1_CO</th>\n",
       "      <th>C6H6_GT</th>\n",
       "      <th>PT08_S2_NMHC</th>\n",
       "      <th>Nox_GT</th>\n",
       "      <th>PT08_S3_Nox</th>\n",
       "      <th>NO2_GT</th>\n",
       "      <th>PT08_S4_NO2</th>\n",
       "      <th>PT08_S5_O3</th>\n",
       "      <th>T</th>\n",
       "      <th>RH</th>\n",
       "      <th>AH</th>\n",
       "      <th>CO_level</th>\n",
       "      <th>Date_year</th>\n",
       "      <th>Date_month</th>\n",
       "      <th>Date_week</th>\n",
       "      <th>Date_day</th>\n",
       "      <th>Split</th>\n",
       "    </tr>\n",
       "  </thead>\n",
       "  <tbody>\n",
       "    <tr>\n",
       "      <td>0</td>\n",
       "      <td>19:00:00</td>\n",
       "      <td>11.9</td>\n",
       "      <td>2008</td>\n",
       "      <td>50.6</td>\n",
       "      <td>1980</td>\n",
       "      <td>1389.0</td>\n",
       "      <td>325</td>\n",
       "      <td>220.0</td>\n",
       "      <td>2562</td>\n",
       "      <td>2342</td>\n",
       "      <td>12.4</td>\n",
       "      <td>74.7</td>\n",
       "      <td>1.0741</td>\n",
       "      <td>Very High</td>\n",
       "      <td>2004</td>\n",
       "      <td>11</td>\n",
       "      <td>48</td>\n",
       "      <td>23</td>\n",
       "      <td>[19, 00, 00]</td>\n",
       "    </tr>\n",
       "    <tr>\n",
       "      <td>1</td>\n",
       "      <td>20:00:00</td>\n",
       "      <td>11.5</td>\n",
       "      <td>1918</td>\n",
       "      <td>49.4</td>\n",
       "      <td>1958</td>\n",
       "      <td>1358.0</td>\n",
       "      <td>335</td>\n",
       "      <td>190.0</td>\n",
       "      <td>2477</td>\n",
       "      <td>2237</td>\n",
       "      <td>11.5</td>\n",
       "      <td>76.2</td>\n",
       "      <td>1.0324</td>\n",
       "      <td>Very High</td>\n",
       "      <td>2004</td>\n",
       "      <td>11</td>\n",
       "      <td>48</td>\n",
       "      <td>23</td>\n",
       "      <td>[20, 00, 00]</td>\n",
       "    </tr>\n",
       "    <tr>\n",
       "      <td>2</td>\n",
       "      <td>18:00:00</td>\n",
       "      <td>10.2</td>\n",
       "      <td>1802</td>\n",
       "      <td>47.7</td>\n",
       "      <td>1924</td>\n",
       "      <td>748.0</td>\n",
       "      <td>356</td>\n",
       "      <td>192.0</td>\n",
       "      <td>2235</td>\n",
       "      <td>2452</td>\n",
       "      <td>13.7</td>\n",
       "      <td>52.8</td>\n",
       "      <td>0.8244</td>\n",
       "      <td>Very High</td>\n",
       "      <td>2004</td>\n",
       "      <td>11</td>\n",
       "      <td>47</td>\n",
       "      <td>17</td>\n",
       "      <td>[18, 00, 00]</td>\n",
       "    </tr>\n",
       "    <tr>\n",
       "      <td>3</td>\n",
       "      <td>18:00:00</td>\n",
       "      <td>10.2</td>\n",
       "      <td>1982</td>\n",
       "      <td>49.5</td>\n",
       "      <td>1959</td>\n",
       "      <td>1369.0</td>\n",
       "      <td>322</td>\n",
       "      <td>227.0</td>\n",
       "      <td>2536</td>\n",
       "      <td>2386</td>\n",
       "      <td>13.2</td>\n",
       "      <td>72.6</td>\n",
       "      <td>1.0936</td>\n",
       "      <td>Very High</td>\n",
       "      <td>2004</td>\n",
       "      <td>11</td>\n",
       "      <td>48</td>\n",
       "      <td>23</td>\n",
       "      <td>[18, 00, 00]</td>\n",
       "    </tr>\n",
       "    <tr>\n",
       "      <td>4</td>\n",
       "      <td>18:00:00</td>\n",
       "      <td>10.1</td>\n",
       "      <td>1956</td>\n",
       "      <td>45.2</td>\n",
       "      <td>1877</td>\n",
       "      <td>1389.0</td>\n",
       "      <td>347</td>\n",
       "      <td>255.0</td>\n",
       "      <td>2338</td>\n",
       "      <td>2465</td>\n",
       "      <td>15.5</td>\n",
       "      <td>62.8</td>\n",
       "      <td>1.0979</td>\n",
       "      <td>Very High</td>\n",
       "      <td>2004</td>\n",
       "      <td>11</td>\n",
       "      <td>48</td>\n",
       "      <td>26</td>\n",
       "      <td>[18, 00, 00]</td>\n",
       "    </tr>\n",
       "  </tbody>\n",
       "</table>\n",
       "</div>"
      ],
      "text/plain": [
       "       Time  CO_GT  PT08_S1_CO  C6H6_GT  PT08_S2_NMHC  Nox_GT  PT08_S3_Nox  \\\n",
       "0  19:00:00   11.9        2008     50.6          1980  1389.0          325   \n",
       "1  20:00:00   11.5        1918     49.4          1958  1358.0          335   \n",
       "2  18:00:00   10.2        1802     47.7          1924   748.0          356   \n",
       "3  18:00:00   10.2        1982     49.5          1959  1369.0          322   \n",
       "4  18:00:00   10.1        1956     45.2          1877  1389.0          347   \n",
       "\n",
       "   NO2_GT  PT08_S4_NO2  PT08_S5_O3     T    RH      AH   CO_level  Date_year  \\\n",
       "0   220.0         2562        2342  12.4  74.7  1.0741  Very High       2004   \n",
       "1   190.0         2477        2237  11.5  76.2  1.0324  Very High       2004   \n",
       "2   192.0         2235        2452  13.7  52.8  0.8244  Very High       2004   \n",
       "3   227.0         2536        2386  13.2  72.6  1.0936  Very High       2004   \n",
       "4   255.0         2338        2465  15.5  62.8  1.0979  Very High       2004   \n",
       "\n",
       "   Date_month  Date_week  Date_day         Split  \n",
       "0          11         48        23  [19, 00, 00]  \n",
       "1          11         48        23  [20, 00, 00]  \n",
       "2          11         47        17  [18, 00, 00]  \n",
       "3          11         48        23  [18, 00, 00]  \n",
       "4          11         48        26  [18, 00, 00]  "
      ]
     },
     "execution_count": 51,
     "metadata": {},
     "output_type": "execute_result"
    }
   ],
   "source": [
    "data.head()"
   ]
  },
  {
   "cell_type": "code",
   "execution_count": 52,
   "metadata": {},
   "outputs": [],
   "source": [
    "data['Time_hour']=data['Split'].map(lambda x:x[0].strip())"
   ]
  },
  {
   "cell_type": "code",
   "execution_count": 53,
   "metadata": {},
   "outputs": [
    {
     "data": {
      "text/html": [
       "<div>\n",
       "<style scoped>\n",
       "    .dataframe tbody tr th:only-of-type {\n",
       "        vertical-align: middle;\n",
       "    }\n",
       "\n",
       "    .dataframe tbody tr th {\n",
       "        vertical-align: top;\n",
       "    }\n",
       "\n",
       "    .dataframe thead th {\n",
       "        text-align: right;\n",
       "    }\n",
       "</style>\n",
       "<table border=\"1\" class=\"dataframe\">\n",
       "  <thead>\n",
       "    <tr style=\"text-align: right;\">\n",
       "      <th></th>\n",
       "      <th>Time</th>\n",
       "      <th>CO_GT</th>\n",
       "      <th>PT08_S1_CO</th>\n",
       "      <th>C6H6_GT</th>\n",
       "      <th>PT08_S2_NMHC</th>\n",
       "      <th>Nox_GT</th>\n",
       "      <th>PT08_S3_Nox</th>\n",
       "      <th>NO2_GT</th>\n",
       "      <th>PT08_S4_NO2</th>\n",
       "      <th>PT08_S5_O3</th>\n",
       "      <th>T</th>\n",
       "      <th>RH</th>\n",
       "      <th>AH</th>\n",
       "      <th>CO_level</th>\n",
       "      <th>Date_year</th>\n",
       "      <th>Date_month</th>\n",
       "      <th>Date_week</th>\n",
       "      <th>Date_day</th>\n",
       "      <th>Split</th>\n",
       "      <th>Time_hour</th>\n",
       "    </tr>\n",
       "  </thead>\n",
       "  <tbody>\n",
       "    <tr>\n",
       "      <td>0</td>\n",
       "      <td>19:00:00</td>\n",
       "      <td>11.9</td>\n",
       "      <td>2008</td>\n",
       "      <td>50.6</td>\n",
       "      <td>1980</td>\n",
       "      <td>1389.0</td>\n",
       "      <td>325</td>\n",
       "      <td>220.0</td>\n",
       "      <td>2562</td>\n",
       "      <td>2342</td>\n",
       "      <td>12.4</td>\n",
       "      <td>74.7</td>\n",
       "      <td>1.0741</td>\n",
       "      <td>Very High</td>\n",
       "      <td>2004</td>\n",
       "      <td>11</td>\n",
       "      <td>48</td>\n",
       "      <td>23</td>\n",
       "      <td>[19, 00, 00]</td>\n",
       "      <td>19</td>\n",
       "    </tr>\n",
       "    <tr>\n",
       "      <td>1</td>\n",
       "      <td>20:00:00</td>\n",
       "      <td>11.5</td>\n",
       "      <td>1918</td>\n",
       "      <td>49.4</td>\n",
       "      <td>1958</td>\n",
       "      <td>1358.0</td>\n",
       "      <td>335</td>\n",
       "      <td>190.0</td>\n",
       "      <td>2477</td>\n",
       "      <td>2237</td>\n",
       "      <td>11.5</td>\n",
       "      <td>76.2</td>\n",
       "      <td>1.0324</td>\n",
       "      <td>Very High</td>\n",
       "      <td>2004</td>\n",
       "      <td>11</td>\n",
       "      <td>48</td>\n",
       "      <td>23</td>\n",
       "      <td>[20, 00, 00]</td>\n",
       "      <td>20</td>\n",
       "    </tr>\n",
       "    <tr>\n",
       "      <td>2</td>\n",
       "      <td>18:00:00</td>\n",
       "      <td>10.2</td>\n",
       "      <td>1802</td>\n",
       "      <td>47.7</td>\n",
       "      <td>1924</td>\n",
       "      <td>748.0</td>\n",
       "      <td>356</td>\n",
       "      <td>192.0</td>\n",
       "      <td>2235</td>\n",
       "      <td>2452</td>\n",
       "      <td>13.7</td>\n",
       "      <td>52.8</td>\n",
       "      <td>0.8244</td>\n",
       "      <td>Very High</td>\n",
       "      <td>2004</td>\n",
       "      <td>11</td>\n",
       "      <td>47</td>\n",
       "      <td>17</td>\n",
       "      <td>[18, 00, 00]</td>\n",
       "      <td>18</td>\n",
       "    </tr>\n",
       "    <tr>\n",
       "      <td>3</td>\n",
       "      <td>18:00:00</td>\n",
       "      <td>10.2</td>\n",
       "      <td>1982</td>\n",
       "      <td>49.5</td>\n",
       "      <td>1959</td>\n",
       "      <td>1369.0</td>\n",
       "      <td>322</td>\n",
       "      <td>227.0</td>\n",
       "      <td>2536</td>\n",
       "      <td>2386</td>\n",
       "      <td>13.2</td>\n",
       "      <td>72.6</td>\n",
       "      <td>1.0936</td>\n",
       "      <td>Very High</td>\n",
       "      <td>2004</td>\n",
       "      <td>11</td>\n",
       "      <td>48</td>\n",
       "      <td>23</td>\n",
       "      <td>[18, 00, 00]</td>\n",
       "      <td>18</td>\n",
       "    </tr>\n",
       "    <tr>\n",
       "      <td>4</td>\n",
       "      <td>18:00:00</td>\n",
       "      <td>10.1</td>\n",
       "      <td>1956</td>\n",
       "      <td>45.2</td>\n",
       "      <td>1877</td>\n",
       "      <td>1389.0</td>\n",
       "      <td>347</td>\n",
       "      <td>255.0</td>\n",
       "      <td>2338</td>\n",
       "      <td>2465</td>\n",
       "      <td>15.5</td>\n",
       "      <td>62.8</td>\n",
       "      <td>1.0979</td>\n",
       "      <td>Very High</td>\n",
       "      <td>2004</td>\n",
       "      <td>11</td>\n",
       "      <td>48</td>\n",
       "      <td>26</td>\n",
       "      <td>[18, 00, 00]</td>\n",
       "      <td>18</td>\n",
       "    </tr>\n",
       "  </tbody>\n",
       "</table>\n",
       "</div>"
      ],
      "text/plain": [
       "       Time  CO_GT  PT08_S1_CO  C6H6_GT  PT08_S2_NMHC  Nox_GT  PT08_S3_Nox  \\\n",
       "0  19:00:00   11.9        2008     50.6          1980  1389.0          325   \n",
       "1  20:00:00   11.5        1918     49.4          1958  1358.0          335   \n",
       "2  18:00:00   10.2        1802     47.7          1924   748.0          356   \n",
       "3  18:00:00   10.2        1982     49.5          1959  1369.0          322   \n",
       "4  18:00:00   10.1        1956     45.2          1877  1389.0          347   \n",
       "\n",
       "   NO2_GT  PT08_S4_NO2  PT08_S5_O3     T    RH      AH   CO_level  Date_year  \\\n",
       "0   220.0         2562        2342  12.4  74.7  1.0741  Very High       2004   \n",
       "1   190.0         2477        2237  11.5  76.2  1.0324  Very High       2004   \n",
       "2   192.0         2235        2452  13.7  52.8  0.8244  Very High       2004   \n",
       "3   227.0         2536        2386  13.2  72.6  1.0936  Very High       2004   \n",
       "4   255.0         2338        2465  15.5  62.8  1.0979  Very High       2004   \n",
       "\n",
       "   Date_month  Date_week  Date_day         Split Time_hour  \n",
       "0          11         48        23  [19, 00, 00]        19  \n",
       "1          11         48        23  [20, 00, 00]        20  \n",
       "2          11         47        17  [18, 00, 00]        18  \n",
       "3          11         48        23  [18, 00, 00]        18  \n",
       "4          11         48        26  [18, 00, 00]        18  "
      ]
     },
     "execution_count": 53,
     "metadata": {},
     "output_type": "execute_result"
    }
   ],
   "source": [
    "data.head()"
   ]
  },
  {
   "cell_type": "code",
   "execution_count": 54,
   "metadata": {},
   "outputs": [],
   "source": [
    "data['Time_min']=data['Split'].map(lambda x:x[1].strip())"
   ]
  },
  {
   "cell_type": "code",
   "execution_count": 55,
   "metadata": {},
   "outputs": [],
   "source": [
    "data['Time_sec']=data['Split'].map(lambda x:x[2].strip())"
   ]
  },
  {
   "cell_type": "code",
   "execution_count": 56,
   "metadata": {},
   "outputs": [],
   "source": [
    "data=data.drop(columns=['Split'])"
   ]
  },
  {
   "cell_type": "code",
   "execution_count": 57,
   "metadata": {},
   "outputs": [
    {
     "data": {
      "text/html": [
       "<div>\n",
       "<style scoped>\n",
       "    .dataframe tbody tr th:only-of-type {\n",
       "        vertical-align: middle;\n",
       "    }\n",
       "\n",
       "    .dataframe tbody tr th {\n",
       "        vertical-align: top;\n",
       "    }\n",
       "\n",
       "    .dataframe thead th {\n",
       "        text-align: right;\n",
       "    }\n",
       "</style>\n",
       "<table border=\"1\" class=\"dataframe\">\n",
       "  <thead>\n",
       "    <tr style=\"text-align: right;\">\n",
       "      <th></th>\n",
       "      <th>Time</th>\n",
       "      <th>CO_GT</th>\n",
       "      <th>PT08_S1_CO</th>\n",
       "      <th>C6H6_GT</th>\n",
       "      <th>PT08_S2_NMHC</th>\n",
       "      <th>Nox_GT</th>\n",
       "      <th>PT08_S3_Nox</th>\n",
       "      <th>NO2_GT</th>\n",
       "      <th>PT08_S4_NO2</th>\n",
       "      <th>PT08_S5_O3</th>\n",
       "      <th>...</th>\n",
       "      <th>RH</th>\n",
       "      <th>AH</th>\n",
       "      <th>CO_level</th>\n",
       "      <th>Date_year</th>\n",
       "      <th>Date_month</th>\n",
       "      <th>Date_week</th>\n",
       "      <th>Date_day</th>\n",
       "      <th>Time_hour</th>\n",
       "      <th>Time_min</th>\n",
       "      <th>Time_sec</th>\n",
       "    </tr>\n",
       "  </thead>\n",
       "  <tbody>\n",
       "    <tr>\n",
       "      <td>0</td>\n",
       "      <td>19:00:00</td>\n",
       "      <td>11.9</td>\n",
       "      <td>2008</td>\n",
       "      <td>50.6</td>\n",
       "      <td>1980</td>\n",
       "      <td>1389.0</td>\n",
       "      <td>325</td>\n",
       "      <td>220.0</td>\n",
       "      <td>2562</td>\n",
       "      <td>2342</td>\n",
       "      <td>...</td>\n",
       "      <td>74.7</td>\n",
       "      <td>1.0741</td>\n",
       "      <td>Very High</td>\n",
       "      <td>2004</td>\n",
       "      <td>11</td>\n",
       "      <td>48</td>\n",
       "      <td>23</td>\n",
       "      <td>19</td>\n",
       "      <td>00</td>\n",
       "      <td>00</td>\n",
       "    </tr>\n",
       "    <tr>\n",
       "      <td>1</td>\n",
       "      <td>20:00:00</td>\n",
       "      <td>11.5</td>\n",
       "      <td>1918</td>\n",
       "      <td>49.4</td>\n",
       "      <td>1958</td>\n",
       "      <td>1358.0</td>\n",
       "      <td>335</td>\n",
       "      <td>190.0</td>\n",
       "      <td>2477</td>\n",
       "      <td>2237</td>\n",
       "      <td>...</td>\n",
       "      <td>76.2</td>\n",
       "      <td>1.0324</td>\n",
       "      <td>Very High</td>\n",
       "      <td>2004</td>\n",
       "      <td>11</td>\n",
       "      <td>48</td>\n",
       "      <td>23</td>\n",
       "      <td>20</td>\n",
       "      <td>00</td>\n",
       "      <td>00</td>\n",
       "    </tr>\n",
       "    <tr>\n",
       "      <td>2</td>\n",
       "      <td>18:00:00</td>\n",
       "      <td>10.2</td>\n",
       "      <td>1802</td>\n",
       "      <td>47.7</td>\n",
       "      <td>1924</td>\n",
       "      <td>748.0</td>\n",
       "      <td>356</td>\n",
       "      <td>192.0</td>\n",
       "      <td>2235</td>\n",
       "      <td>2452</td>\n",
       "      <td>...</td>\n",
       "      <td>52.8</td>\n",
       "      <td>0.8244</td>\n",
       "      <td>Very High</td>\n",
       "      <td>2004</td>\n",
       "      <td>11</td>\n",
       "      <td>47</td>\n",
       "      <td>17</td>\n",
       "      <td>18</td>\n",
       "      <td>00</td>\n",
       "      <td>00</td>\n",
       "    </tr>\n",
       "    <tr>\n",
       "      <td>3</td>\n",
       "      <td>18:00:00</td>\n",
       "      <td>10.2</td>\n",
       "      <td>1982</td>\n",
       "      <td>49.5</td>\n",
       "      <td>1959</td>\n",
       "      <td>1369.0</td>\n",
       "      <td>322</td>\n",
       "      <td>227.0</td>\n",
       "      <td>2536</td>\n",
       "      <td>2386</td>\n",
       "      <td>...</td>\n",
       "      <td>72.6</td>\n",
       "      <td>1.0936</td>\n",
       "      <td>Very High</td>\n",
       "      <td>2004</td>\n",
       "      <td>11</td>\n",
       "      <td>48</td>\n",
       "      <td>23</td>\n",
       "      <td>18</td>\n",
       "      <td>00</td>\n",
       "      <td>00</td>\n",
       "    </tr>\n",
       "    <tr>\n",
       "      <td>4</td>\n",
       "      <td>18:00:00</td>\n",
       "      <td>10.1</td>\n",
       "      <td>1956</td>\n",
       "      <td>45.2</td>\n",
       "      <td>1877</td>\n",
       "      <td>1389.0</td>\n",
       "      <td>347</td>\n",
       "      <td>255.0</td>\n",
       "      <td>2338</td>\n",
       "      <td>2465</td>\n",
       "      <td>...</td>\n",
       "      <td>62.8</td>\n",
       "      <td>1.0979</td>\n",
       "      <td>Very High</td>\n",
       "      <td>2004</td>\n",
       "      <td>11</td>\n",
       "      <td>48</td>\n",
       "      <td>26</td>\n",
       "      <td>18</td>\n",
       "      <td>00</td>\n",
       "      <td>00</td>\n",
       "    </tr>\n",
       "  </tbody>\n",
       "</table>\n",
       "<p>5 rows × 21 columns</p>\n",
       "</div>"
      ],
      "text/plain": [
       "       Time  CO_GT  PT08_S1_CO  C6H6_GT  PT08_S2_NMHC  Nox_GT  PT08_S3_Nox  \\\n",
       "0  19:00:00   11.9        2008     50.6          1980  1389.0          325   \n",
       "1  20:00:00   11.5        1918     49.4          1958  1358.0          335   \n",
       "2  18:00:00   10.2        1802     47.7          1924   748.0          356   \n",
       "3  18:00:00   10.2        1982     49.5          1959  1369.0          322   \n",
       "4  18:00:00   10.1        1956     45.2          1877  1389.0          347   \n",
       "\n",
       "   NO2_GT  PT08_S4_NO2  PT08_S5_O3  ...    RH      AH   CO_level Date_year  \\\n",
       "0   220.0         2562        2342  ...  74.7  1.0741  Very High      2004   \n",
       "1   190.0         2477        2237  ...  76.2  1.0324  Very High      2004   \n",
       "2   192.0         2235        2452  ...  52.8  0.8244  Very High      2004   \n",
       "3   227.0         2536        2386  ...  72.6  1.0936  Very High      2004   \n",
       "4   255.0         2338        2465  ...  62.8  1.0979  Very High      2004   \n",
       "\n",
       "   Date_month  Date_week  Date_day  Time_hour Time_min Time_sec  \n",
       "0          11         48        23         19       00       00  \n",
       "1          11         48        23         20       00       00  \n",
       "2          11         47        17         18       00       00  \n",
       "3          11         48        23         18       00       00  \n",
       "4          11         48        26         18       00       00  \n",
       "\n",
       "[5 rows x 21 columns]"
      ]
     },
     "execution_count": 57,
     "metadata": {},
     "output_type": "execute_result"
    }
   ],
   "source": [
    "data.head()"
   ]
  },
  {
   "cell_type": "code",
   "execution_count": 58,
   "metadata": {},
   "outputs": [
    {
     "data": {
      "text/plain": [
       "<matplotlib.axes._subplots.AxesSubplot at 0x1966a439648>"
      ]
     },
     "execution_count": 58,
     "metadata": {},
     "output_type": "execute_result"
    },
    {
     "data": {
      "image/png": "[encoded data removed]",
      "text/plain": [
       "<Figure size 432x288 with 1 Axes>"
      ]
     },
     "metadata": {
      "needs_background": "light"
     },
     "output_type": "display_data"
    }
   ],
   "source": [
    "import seaborn as sns\n",
    "sns.countplot(x=\"CO_level\", data=data)"
   ]
  },
  {
   "cell_type": "code",
   "execution_count": 59,
   "metadata": {},
   "outputs": [
    {
     "name": "stdout",
     "output_type": "stream",
     "text": [
      "0       Very High\n",
      "1       Very High\n",
      "2       Very High\n",
      "3       Very High\n",
      "4       Very High\n",
      "          ...    \n",
      "7480     Very low\n",
      "7481     Very low\n",
      "7482     Very low\n",
      "7483     Very low\n",
      "7484     Very low\n",
      "Name: CO_level, Length: 7162, dtype: object\n"
     ]
    }
   ],
   "source": [
    "x=data['CO_level']\n",
    "print(x)"
   ]
  },
  {
   "cell_type": "code",
   "execution_count": 63,
   "metadata": {},
   "outputs": [],
   "source": [
    "data['CO_level']=data['CO_level'].replace(to_replace='Very High', value ='High')\n",
    "data['CO_level']=data['CO_level'].replace(to_replace='Moderate', value ='Low')\n",
    "data['CO_level']=data['CO_level'].replace(to_replace='Very low', value ='Low')"
   ]
  },
  {
   "cell_type": "code",
   "execution_count": 64,
   "metadata": {},
   "outputs": [
    {
     "data": {
      "text/plain": [
       "<matplotlib.axes._subplots.AxesSubplot at 0x1966a81afc8>"
      ]
     },
     "execution_count": 64,
     "metadata": {},
     "output_type": "execute_result"
    },
    {
     "data": {
      "image/png": "[encoded data removed]",
      "text/plain": [
       "<Figure size 432x288 with 1 Axes>"
      ]
     },
     "metadata": {
      "needs_background": "light"
     },
     "output_type": "display_data"
    }
   ],
   "source": [
    "sns.countplot(x=\"CO_level\", data=data)"
   ]
  },
  {
   "cell_type": "code",
   "execution_count": 65,
   "metadata": {},
   "outputs": [
    {
     "data": {
      "text/plain": [
       "Time             object\n",
       "CO_GT           float64\n",
       "PT08_S1_CO        int64\n",
       "C6H6_GT         float64\n",
       "PT08_S2_NMHC      int64\n",
       "Nox_GT          float64\n",
       "PT08_S3_Nox       int64\n",
       "NO2_GT          float64\n",
       "PT08_S4_NO2       int64\n",
       "PT08_S5_O3        int64\n",
       "T               float64\n",
       "RH              float64\n",
       "AH              float64\n",
       "CO_level         object\n",
       "Date_year         int64\n",
       "Date_month        int64\n",
       "Date_week         int64\n",
       "Date_day          int64\n",
       "Time_hour        object\n",
       "Time_min         object\n",
       "Time_sec         object\n",
       "dtype: object"
      ]
     },
     "execution_count": 65,
     "metadata": {},
     "output_type": "execute_result"
    }
   ],
   "source": [
    "data.dtypes"
   ]
  },
  {
   "cell_type": "code",
   "execution_count": 66,
   "metadata": {},
   "outputs": [],
   "source": [
    "data=data.drop(columns=['Time'])"
   ]
  },
  {
   "cell_type": "code",
   "execution_count": 67,
   "metadata": {},
   "outputs": [
    {
     "data": {
      "text/plain": [
       "array(['00'], dtype=object)"
      ]
     },
     "execution_count": 67,
     "metadata": {},
     "output_type": "execute_result"
    }
   ],
   "source": [
    "data['Time_min'].unique()"
   ]
  },
  {
   "cell_type": "code",
   "execution_count": 70,
   "metadata": {},
   "outputs": [
    {
     "data": {
      "text/plain": [
       "CO_GT           float64\n",
       "PT08_S1_CO        int64\n",
       "C6H6_GT         float64\n",
       "PT08_S2_NMHC      int64\n",
       "Nox_GT          float64\n",
       "PT08_S3_Nox       int64\n",
       "NO2_GT          float64\n",
       "PT08_S4_NO2       int64\n",
       "PT08_S5_O3        int64\n",
       "T               float64\n",
       "RH              float64\n",
       "AH              float64\n",
       "CO_level         object\n",
       "Date_year         int64\n",
       "Date_month        int64\n",
       "Date_week         int64\n",
       "Date_day          int64\n",
       "Time_hour         int64\n",
       "Time_min          int64\n",
       "Time_sec          int64\n",
       "dtype: object"
      ]
     },
     "execution_count": 70,
     "metadata": {},
     "output_type": "execute_result"
    }
   ],
   "source": [
    "data=data.apply(pd.to_numeric,errors=\"ignore\")\n",
    "data.dtypes"
   ]
  },
  {
   "cell_type": "code",
   "execution_count": 71,
   "metadata": {},
   "outputs": [],
   "source": [
    "data=data.drop(columns=['Time_min','Time_sec'])"
   ]
  },
  {
   "cell_type": "code",
   "execution_count": 72,
   "metadata": {},
   "outputs": [],
   "source": [
    "from sklearn.preprocessing import LabelEncoder\n",
    "a=LabelEncoder()\n",
    "data['CO_level']=a.fit_transform(data['CO_level'])"
   ]
  },
  {
   "cell_type": "code",
   "execution_count": 73,
   "metadata": {},
   "outputs": [
    {
     "data": {
      "text/html": [
       "<div>\n",
       "<style scoped>\n",
       "    .dataframe tbody tr th:only-of-type {\n",
       "        vertical-align: middle;\n",
       "    }\n",
       "\n",
       "    .dataframe tbody tr th {\n",
       "        vertical-align: top;\n",
       "    }\n",
       "\n",
       "    .dataframe thead th {\n",
       "        text-align: right;\n",
       "    }\n",
       "</style>\n",
       "<table border=\"1\" class=\"dataframe\">\n",
       "  <thead>\n",
       "    <tr style=\"text-align: right;\">\n",
       "      <th></th>\n",
       "      <th>CO_GT</th>\n",
       "      <th>PT08_S1_CO</th>\n",
       "      <th>C6H6_GT</th>\n",
       "      <th>PT08_S2_NMHC</th>\n",
       "      <th>Nox_GT</th>\n",
       "      <th>PT08_S3_Nox</th>\n",
       "      <th>NO2_GT</th>\n",
       "      <th>PT08_S4_NO2</th>\n",
       "      <th>PT08_S5_O3</th>\n",
       "      <th>T</th>\n",
       "      <th>RH</th>\n",
       "      <th>AH</th>\n",
       "      <th>CO_level</th>\n",
       "      <th>Date_year</th>\n",
       "      <th>Date_month</th>\n",
       "      <th>Date_week</th>\n",
       "      <th>Date_day</th>\n",
       "      <th>Time_hour</th>\n",
       "    </tr>\n",
       "  </thead>\n",
       "  <tbody>\n",
       "    <tr>\n",
       "      <td>0</td>\n",
       "      <td>11.9</td>\n",
       "      <td>2008</td>\n",
       "      <td>50.6</td>\n",
       "      <td>1980</td>\n",
       "      <td>1389.0</td>\n",
       "      <td>325</td>\n",
       "      <td>220.0</td>\n",
       "      <td>2562</td>\n",
       "      <td>2342</td>\n",
       "      <td>12.4</td>\n",
       "      <td>74.7</td>\n",
       "      <td>1.0741</td>\n",
       "      <td>0</td>\n",
       "      <td>2004</td>\n",
       "      <td>11</td>\n",
       "      <td>48</td>\n",
       "      <td>23</td>\n",
       "      <td>19</td>\n",
       "    </tr>\n",
       "    <tr>\n",
       "      <td>1</td>\n",
       "      <td>11.5</td>\n",
       "      <td>1918</td>\n",
       "      <td>49.4</td>\n",
       "      <td>1958</td>\n",
       "      <td>1358.0</td>\n",
       "      <td>335</td>\n",
       "      <td>190.0</td>\n",
       "      <td>2477</td>\n",
       "      <td>2237</td>\n",
       "      <td>11.5</td>\n",
       "      <td>76.2</td>\n",
       "      <td>1.0324</td>\n",
       "      <td>0</td>\n",
       "      <td>2004</td>\n",
       "      <td>11</td>\n",
       "      <td>48</td>\n",
       "      <td>23</td>\n",
       "      <td>20</td>\n",
       "    </tr>\n",
       "    <tr>\n",
       "      <td>2</td>\n",
       "      <td>10.2</td>\n",
       "      <td>1802</td>\n",
       "      <td>47.7</td>\n",
       "      <td>1924</td>\n",
       "      <td>748.0</td>\n",
       "      <td>356</td>\n",
       "      <td>192.0</td>\n",
       "      <td>2235</td>\n",
       "      <td>2452</td>\n",
       "      <td>13.7</td>\n",
       "      <td>52.8</td>\n",
       "      <td>0.8244</td>\n",
       "      <td>0</td>\n",
       "      <td>2004</td>\n",
       "      <td>11</td>\n",
       "      <td>47</td>\n",
       "      <td>17</td>\n",
       "      <td>18</td>\n",
       "    </tr>\n",
       "    <tr>\n",
       "      <td>3</td>\n",
       "      <td>10.2</td>\n",
       "      <td>1982</td>\n",
       "      <td>49.5</td>\n",
       "      <td>1959</td>\n",
       "      <td>1369.0</td>\n",
       "      <td>322</td>\n",
       "      <td>227.0</td>\n",
       "      <td>2536</td>\n",
       "      <td>2386</td>\n",
       "      <td>13.2</td>\n",
       "      <td>72.6</td>\n",
       "      <td>1.0936</td>\n",
       "      <td>0</td>\n",
       "      <td>2004</td>\n",
       "      <td>11</td>\n",
       "      <td>48</td>\n",
       "      <td>23</td>\n",
       "      <td>18</td>\n",
       "    </tr>\n",
       "    <tr>\n",
       "      <td>4</td>\n",
       "      <td>10.1</td>\n",
       "      <td>1956</td>\n",
       "      <td>45.2</td>\n",
       "      <td>1877</td>\n",
       "      <td>1389.0</td>\n",
       "      <td>347</td>\n",
       "      <td>255.0</td>\n",
       "      <td>2338</td>\n",
       "      <td>2465</td>\n",
       "      <td>15.5</td>\n",
       "      <td>62.8</td>\n",
       "      <td>1.0979</td>\n",
       "      <td>0</td>\n",
       "      <td>2004</td>\n",
       "      <td>11</td>\n",
       "      <td>48</td>\n",
       "      <td>26</td>\n",
       "      <td>18</td>\n",
       "    </tr>\n",
       "  </tbody>\n",
       "</table>\n",
       "</div>"
      ],
      "text/plain": [
       "   CO_GT  PT08_S1_CO  C6H6_GT  PT08_S2_NMHC  Nox_GT  PT08_S3_Nox  NO2_GT  \\\n",
       "0   11.9        2008     50.6          1980  1389.0          325   220.0   \n",
       "1   11.5        1918     49.4          1958  1358.0          335   190.0   \n",
       "2   10.2        1802     47.7          1924   748.0          356   192.0   \n",
       "3   10.2        1982     49.5          1959  1369.0          322   227.0   \n",
       "4   10.1        1956     45.2          1877  1389.0          347   255.0   \n",
       "\n",
       "   PT08_S4_NO2  PT08_S5_O3     T    RH      AH  CO_level  Date_year  \\\n",
       "0         2562        2342  12.4  74.7  1.0741         0       2004   \n",
       "1         2477        2237  11.5  76.2  1.0324         0       2004   \n",
       "2         2235        2452  13.7  52.8  0.8244         0       2004   \n",
       "3         2536        2386  13.2  72.6  1.0936         0       2004   \n",
       "4         2338        2465  15.5  62.8  1.0979         0       2004   \n",
       "\n",
       "   Date_month  Date_week  Date_day  Time_hour  \n",
       "0          11         48        23         19  \n",
       "1          11         48        23         20  \n",
       "2          11         47        17         18  \n",
       "3          11         48        23         18  \n",
       "4          11         48        26         18  "
      ]
     },
     "execution_count": 73,
     "metadata": {},
     "output_type": "execute_result"
    }
   ],
   "source": [
    "data.head()"
   ]
  },
  {
   "cell_type": "code",
   "execution_count": 74,
   "metadata": {},
   "outputs": [
    {
     "data": {
      "image/png": "[encoded data removed]",
      "text/plain": [
       "<Figure size 576x432 with 1 Axes>"
      ]
     },
     "metadata": {
      "needs_background": "light"
     },
     "output_type": "display_data"
    }
   ],
   "source": [
    "fig = plt.figure(figsize=(8,6))\n",
    "data.groupby('CO_level')[\"CO_GT\"].count().plot.bar(ylim=0)\n",
    "plt.show()"
   ]
  },
  {
   "cell_type": "code",
   "execution_count": 75,
   "metadata": {},
   "outputs": [
    {
     "data": {
      "text/plain": [
       "array([0, 1], dtype=int64)"
      ]
     },
     "execution_count": 75,
     "metadata": {},
     "output_type": "execute_result"
    }
   ],
   "source": [
    "data['CO_level'].unique()"
   ]
  },
  {
   "cell_type": "code",
   "execution_count": 76,
   "metadata": {},
   "outputs": [
    {
     "data": {
      "image/png": "[encoded data removed]",
      "text/plain": [
       "<Figure size 576x432 with 1 Axes>"
      ]
     },
     "metadata": {
      "needs_background": "light"
     },
     "output_type": "display_data"
    }
   ],
   "source": [
    "fig = plt.figure(figsize=(8,6))\n",
    "data.groupby('CO_level')[\"C6H6_GT\"].count().plot.bar(ylim=0)\n",
    "plt.show()"
   ]
  },
  {
   "cell_type": "code",
   "execution_count": 77,
   "metadata": {},
   "outputs": [
    {
     "data": {
      "text/plain": [
       "Index(['CO_GT', 'PT08_S1_CO', 'C6H6_GT', 'PT08_S2_NMHC', 'Nox_GT',\n",
       "       'PT08_S3_Nox', 'NO2_GT', 'PT08_S4_NO2', 'PT08_S5_O3', 'T', 'RH', 'AH',\n",
       "       'CO_level', 'Date_year', 'Date_month', 'Date_week', 'Date_day',\n",
       "       'Time_hour'],\n",
       "      dtype='object')"
      ]
     },
     "execution_count": 77,
     "metadata": {},
     "output_type": "execute_result"
    }
   ],
   "source": [
    "data.columns"
   ]
  },
  {
   "cell_type": "code",
   "execution_count": 78,
   "metadata": {},
   "outputs": [
    {
     "data": {
      "text/plain": [
       "<matplotlib.axes._subplots.AxesSubplot at 0x1966a669748>"
      ]
     },
     "execution_count": 78,
     "metadata": {},
     "output_type": "execute_result"
    },
    {
     "data": {
      "image/png": "[encoded data removed]",
      "text/plain": [
       "<Figure size 432x288 with 1 Axes>"
      ]
     },
     "metadata": {
      "needs_background": "light"
     },
     "output_type": "display_data"
    }
   ],
   "source": [
    "sns.violinplot(x=data[\"CO_GT\"])"
   ]
  },
  {
   "cell_type": "code",
   "execution_count": 79,
   "metadata": {},
   "outputs": [
    {
     "data": {
      "text/plain": [
       "<seaborn.axisgrid.FacetGrid at 0x1966a4f7a88>"
      ]
     },
     "execution_count": 79,
     "metadata": {},
     "output_type": "execute_result"
    },
    {
     "data": {
      "image/png": "[encoded data removed]",
      "text/plain": [
       "<Figure size 360x360 with 1 Axes>"
      ]
     },
     "metadata": {
      "needs_background": "light"
     },
     "output_type": "display_data"
    }
   ],
   "source": [
    "sns.catplot(x=\"CO_level\",y=\"CO_GT\",data=data)"
   ]
  },
  {
   "cell_type": "code",
   "execution_count": 80,
   "metadata": {},
   "outputs": [
    {
     "data": {
      "text/plain": [
       "<seaborn.axisgrid.FacetGrid at 0x1966d29eac8>"
      ]
     },
     "execution_count": 80,
     "metadata": {},
     "output_type": "execute_result"
    },
    {
     "data": {
      "image/png": "[encoded data removed]",
      "text/plain": [
       "<Figure size 360x360 with 1 Axes>"
      ]
     },
     "metadata": {
      "needs_background": "light"
     },
     "output_type": "display_data"
    }
   ],
   "source": [
    "sns.catplot(x=\"CO_level\",y=\"PT08_S1_CO\",data=data)"
   ]
  },
  {
   "cell_type": "code",
   "execution_count": 81,
   "metadata": {},
   "outputs": [
    {
     "data": {
      "text/plain": [
       "<seaborn.axisgrid.FacetGrid at 0x1966e2dde88>"
      ]
     },
     "execution_count": 81,
     "metadata": {},
     "output_type": "execute_result"
    },
    {
     "data": {
      "image/png": "[encoded data removed]",
      "text/plain": [
       "<Figure size 360x360 with 1 Axes>"
      ]
     },
     "metadata": {
      "needs_background": "light"
     },
     "output_type": "display_data"
    }
   ],
   "source": [
    "sns.catplot(x=\"CO_level\",y=\"C6H6_GT\",data=data)"
   ]
  },
  {
   "cell_type": "code",
   "execution_count": 82,
   "metadata": {},
   "outputs": [
    {
     "data": {
      "text/plain": [
       "<seaborn.axisgrid.FacetGrid at 0x1966a819e48>"
      ]
     },
     "execution_count": 82,
     "metadata": {},
     "output_type": "execute_result"
    },
    {
     "data": {
      "image/png": "[encoded data removed]",
      "text/plain": [
       "<Figure size 360x360 with 1 Axes>"
      ]
     },
     "metadata": {
      "needs_background": "light"
     },
     "output_type": "display_data"
    }
   ],
   "source": [
    "sns.catplot(x=\"CO_level\",y=\"PT08_S2_NMHC\",data=data)"
   ]
  },
  {
   "cell_type": "code",
   "execution_count": 83,
   "metadata": {},
   "outputs": [],
   "source": [
    "train=data.drop(columns=['CO_level'])\n",
    "test=data['CO_level']"
   ]
  },
  {
   "cell_type": "code",
   "execution_count": 84,
   "metadata": {},
   "outputs": [],
   "source": [
    "from sklearn.model_selection import train_test_split\n",
    "x_train,x_test,y_train,y_test=train_test_split(train,test,test_size=0.2)"
   ]
  },
  {
   "cell_type": "code",
   "execution_count": 85,
   "metadata": {},
   "outputs": [],
   "source": [
    "from sklearn.preprocessing import StandardScaler\n",
    "sc=StandardScaler()\n",
    "x_train=sc.fit_transform(x_train)\n",
    "x_test=sc.fit_transform(x_test)"
   ]
  },
  {
   "cell_type": "code",
   "execution_count": 86,
   "metadata": {},
   "outputs": [],
   "source": [
    "from sklearn.model_selection import GridSearchCV\n",
    "from sklearn.svm import SVC\n",
    "from sklearn.tree import DecisionTreeClassifier\n",
    "from sklearn.ensemble import RandomForestClassifier\n",
    "from sklearn.metrics import confusion_matrix, accuracy_score, classification_report"
   ]
  },
  {
   "cell_type": "code",
   "execution_count": 87,
   "metadata": {},
   "outputs": [
    {
     "name": "stdout",
     "output_type": "stream",
     "text": [
      "Best Param {'max_depth': 15}\n"
     ]
    }
   ],
   "source": [
    "model = DecisionTreeClassifier()\n",
    "param = {'max_depth':[2,4,6,9,10,15],}\n",
    "gsc = GridSearchCV(estimator=model, param_grid=param, cv=5, scoring='accuracy', verbose=0, n_jobs=-1)\n",
    "grid_result = gsc.fit(x_train, y_train)\n",
    "print('Best Param', grid_result.best_params_)"
   ]
  },
  {
   "cell_type": "code",
   "execution_count": 88,
   "metadata": {},
   "outputs": [
    {
     "name": "stdout",
     "output_type": "stream",
     "text": [
      "(1433,)\n",
      "Accuracy 0.7892533147243544\n",
      "classification Report:\n",
      "               precision    recall  f1-score   support\n",
      "\n",
      "           0       0.76      0.94      0.84       863\n",
      "           1       0.87      0.56      0.68       570\n",
      "\n",
      "    accuracy                           0.79      1433\n",
      "   macro avg       0.81      0.75      0.76      1433\n",
      "weighted avg       0.80      0.79      0.78      1433\n",
      "\n",
      "Confusion Matrix \n",
      " [[814  49]\n",
      " [253 317]]\n"
     ]
    }
   ],
   "source": [
    "y_pred = grid_result.best_estimator_.predict(x_test)\n",
    "print(y_pred.shape)\n",
    "print('Accuracy', accuracy_score(y_test, y_pred))\n",
    "print(\"classification Report:\\n\",classification_report(y_test,y_pred))\n",
    "print('Confusion Matrix \\n' , confusion_matrix(y_test, y_pred))"
   ]
  },
  {
   "cell_type": "code",
   "execution_count": 89,
   "metadata": {},
   "outputs": [
    {
     "name": "stdout",
     "output_type": "stream",
     "text": [
      "Best Param {'n_estimators': 20}\n"
     ]
    }
   ],
   "source": [
    "model = RandomForestClassifier()\n",
    "param = {'n_estimators':[2,4,6,9,10,15,20],}\n",
    "gsc = GridSearchCV(estimator=model, param_grid=param, cv=5, scoring='accuracy', verbose=0, n_jobs=-1)\n",
    "grid_result = gsc.fit(x_train, y_train)\n",
    "print('Best Param', grid_result.best_params_)"
   ]
  },
  {
   "cell_type": "code",
   "execution_count": 90,
   "metadata": {},
   "outputs": [
    {
     "name": "stdout",
     "output_type": "stream",
     "text": [
      "(1433,)\n",
      "Accuracy 0.829030006978367\n",
      "classification Report:\n",
      "               precision    recall  f1-score   support\n",
      "\n",
      "           0       0.78      1.00      0.88       863\n",
      "           1       1.00      0.57      0.73       570\n",
      "\n",
      "    accuracy                           0.83      1433\n",
      "   macro avg       0.89      0.79      0.80      1433\n",
      "weighted avg       0.87      0.83      0.82      1433\n",
      "\n",
      "Confusion Matrix \n",
      " [[863   0]\n",
      " [245 325]]\n"
     ]
    }
   ],
   "source": [
    "y_pred = grid_result.best_estimator_.predict(x_test)\n",
    "print(y_pred.shape)\n",
    "print('Accuracy', accuracy_score(y_test, y_pred))\n",
    "print(\"classification Report:\\n\",classification_report(y_test,y_pred))\n",
    "print('Confusion Matrix \\n' , confusion_matrix(y_test, y_pred))"
   ]
  },
  {
   "cell_type": "code",
   "execution_count": 91,
   "metadata": {},
   "outputs": [
    {
     "name": "stdout",
     "output_type": "stream",
     "text": [
      "Best Param {'C': 20, 'coef0': 0.001, 'kernel': 'rbf'}\n"
     ]
    }
   ],
   "source": [
    "model = SVC()\n",
    "param = {'kernel':['rbf'], 'C':[1,5,10,15, 20], 'coef0':[0.001, 0.01,0.1, 0.5, 1]}\n",
    "gsc = GridSearchCV(estimator=model,param_grid=param, cv=5, scoring='accuracy', verbose=0, n_jobs=-1)\n",
    "grid_result = gsc.fit(x_train, y_train)\n",
    "print('Best Param', grid_result.best_params_)"
   ]
  },
  {
   "cell_type": "code",
   "execution_count": 92,
   "metadata": {},
   "outputs": [
    {
     "name": "stdout",
     "output_type": "stream",
     "text": [
      "(1433,)\n",
      "Accuracy 0.9804605722260991\n",
      "classification Report:\n",
      "               precision    recall  f1-score   support\n",
      "\n",
      "           0       0.98      0.99      0.98       863\n",
      "           1       0.98      0.97      0.98       570\n",
      "\n",
      "    accuracy                           0.98      1433\n",
      "   macro avg       0.98      0.98      0.98      1433\n",
      "weighted avg       0.98      0.98      0.98      1433\n",
      "\n",
      "Confusion Matrix \n",
      " [[854   9]\n",
      " [ 19 551]]\n"
     ]
    }
   ],
   "source": [
    "y_pred = grid_result.best_estimator_.predict(x_test)\n",
    "print(y_pred.shape)\n",
    "print('Accuracy', accuracy_score(y_test, y_pred))\n",
    "print(\"classification Report:\\n\",classification_report(y_test,y_pred))\n",
    "print('Confusion Matrix \\n' , confusion_matrix(y_test, y_pred))"
   ]
  },
  {
   "cell_type": "code",
   "execution_count": null,
   "metadata": {},
   "outputs": [],
   "source": []
  }
 ],
 "metadata": {
  "kernelspec": {
   "display_name": "Python 3",
   "language": "python",
   "name": "python3"
  },
  "language_info": {
   "codemirror_mode": {
    "name": "ipython",
    "version": 3
   },
   "file_extension": ".py",
   "mimetype": "text/x-python",
   "name": "python",
   "nbconvert_exporter": "python",
   "pygments_lexer": "ipython3",
   "version": "3.7.4"
  }
 },
 "nbformat": 4,
 "nbformat_minor": 2
}
